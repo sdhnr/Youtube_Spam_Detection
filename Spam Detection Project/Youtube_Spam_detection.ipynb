{
 "cells": [
  {
   "cell_type": "code",
   "execution_count": 109,
   "id": "cf9db03a",
   "metadata": {},
   "outputs": [],
   "source": [
    "import pandas as pd\n",
    "import numpy as np\n",
    "import matplotlib.pyplot as plt\n",
    "import seaborn as sns\n",
    "from sklearn.linear_model import LogisticRegression\n",
    "from sklearn.model_selection import train_test_split,cross_val_score,GridSearchCV\n",
    "from sklearn.feature_extraction.text import CountVectorizer , TfidfVectorizer\n",
    "from sklearn.metrics import confusion_matrix\n",
    "from yellowbrick.classifier import ConfusionMatrix\n",
    "from xgboost import XGBClassifier\n",
    "import spacy\n",
    "import nltk\n",
    "from sklearn.decomposition import LatentDirichletAllocation"
   ]
  },
  {
   "cell_type": "markdown",
   "id": "52e603ad",
   "metadata": {},
   "source": [
    "# Data"
   ]
  },
  {
   "cell_type": "markdown",
   "id": "1cf7d001",
   "metadata": {},
   "source": [
    "https://archive.ics.uci.edu/dataset/380/youtube+spam+collection"
   ]
  },
  {
   "cell_type": "code",
   "execution_count": 9,
   "id": "d3f9e0df",
   "metadata": {},
   "outputs": [],
   "source": [
    "# CLASS 1 = 'SPAM' ,  0 = HAM\n",
    "df_eminem = pd.read_csv('Youtube04-Eminem.csv')\n",
    "df_kp = pd.read_csv('Youtube02-KatyPerry.csv')\n",
    "df_psy = pd.read_csv('Youtube01-Psy.csv')\n",
    "df_lmfao = pd.read_csv('Youtube03-LMFAO.csv')\n",
    "df_shakira = pd.read_csv('Youtube05-Shakira.csv')"
   ]
  },
  {
   "cell_type": "code",
   "execution_count": 6,
   "id": "ea3d8c0e",
   "metadata": {},
   "outputs": [
    {
     "data": {
      "text/html": [
       "<div>\n",
       "<style scoped>\n",
       "    .dataframe tbody tr th:only-of-type {\n",
       "        vertical-align: middle;\n",
       "    }\n",
       "\n",
       "    .dataframe tbody tr th {\n",
       "        vertical-align: top;\n",
       "    }\n",
       "\n",
       "    .dataframe thead th {\n",
       "        text-align: right;\n",
       "    }\n",
       "</style>\n",
       "<table border=\"1\" class=\"dataframe\">\n",
       "  <thead>\n",
       "    <tr style=\"text-align: right;\">\n",
       "      <th></th>\n",
       "      <th>COMMENT_ID</th>\n",
       "      <th>AUTHOR</th>\n",
       "      <th>DATE</th>\n",
       "      <th>CONTENT</th>\n",
       "      <th>CLASS</th>\n",
       "    </tr>\n",
       "  </thead>\n",
       "  <tbody>\n",
       "    <tr>\n",
       "      <th>0</th>\n",
       "      <td>z12rwfnyyrbsefonb232i5ehdxzkjzjs2</td>\n",
       "      <td>Lisa Wellas</td>\n",
       "      <td>NaN</td>\n",
       "      <td>+447935454150 lovely girl talk to me xxx﻿</td>\n",
       "      <td>1</td>\n",
       "    </tr>\n",
       "    <tr>\n",
       "      <th>1</th>\n",
       "      <td>z130wpnwwnyuetxcn23xf5k5ynmkdpjrj04</td>\n",
       "      <td>jason graham</td>\n",
       "      <td>2015-05-29T02:26:10.652000</td>\n",
       "      <td>I always end up coming back to this song&lt;br /&gt;﻿</td>\n",
       "      <td>0</td>\n",
       "    </tr>\n",
       "    <tr>\n",
       "      <th>2</th>\n",
       "      <td>z13vsfqirtavjvu0t22ezrgzyorwxhpf3</td>\n",
       "      <td>Ajkal Khan</td>\n",
       "      <td>NaN</td>\n",
       "      <td>my sister just received over 6,500 new &lt;a rel=...</td>\n",
       "      <td>1</td>\n",
       "    </tr>\n",
       "    <tr>\n",
       "      <th>3</th>\n",
       "      <td>z12wjzc4eprnvja4304cgbbizuved35wxcs</td>\n",
       "      <td>Dakota Taylor</td>\n",
       "      <td>2015-05-29T02:13:07.810000</td>\n",
       "      <td>Cool﻿</td>\n",
       "      <td>0</td>\n",
       "    </tr>\n",
       "    <tr>\n",
       "      <th>4</th>\n",
       "      <td>z13xjfr42z3uxdz2223gx5rrzs3dt5hna</td>\n",
       "      <td>Jihad Naser</td>\n",
       "      <td>NaN</td>\n",
       "      <td>Hello I&amp;#39;am from Palastine﻿</td>\n",
       "      <td>1</td>\n",
       "    </tr>\n",
       "  </tbody>\n",
       "</table>\n",
       "</div>"
      ],
      "text/plain": [
       "                            COMMENT_ID         AUTHOR  \\\n",
       "0    z12rwfnyyrbsefonb232i5ehdxzkjzjs2    Lisa Wellas   \n",
       "1  z130wpnwwnyuetxcn23xf5k5ynmkdpjrj04   jason graham   \n",
       "2    z13vsfqirtavjvu0t22ezrgzyorwxhpf3     Ajkal Khan   \n",
       "3  z12wjzc4eprnvja4304cgbbizuved35wxcs  Dakota Taylor   \n",
       "4    z13xjfr42z3uxdz2223gx5rrzs3dt5hna    Jihad Naser   \n",
       "\n",
       "                         DATE  \\\n",
       "0                         NaN   \n",
       "1  2015-05-29T02:26:10.652000   \n",
       "2                         NaN   \n",
       "3  2015-05-29T02:13:07.810000   \n",
       "4                         NaN   \n",
       "\n",
       "                                             CONTENT  CLASS  \n",
       "0          +447935454150 lovely girl talk to me xxx﻿      1  \n",
       "1    I always end up coming back to this song<br />﻿      0  \n",
       "2  my sister just received over 6,500 new <a rel=...      1  \n",
       "3                                              Cool﻿      0  \n",
       "4                     Hello I&#39;am from Palastine﻿      1  "
      ]
     },
     "execution_count": 6,
     "metadata": {},
     "output_type": "execute_result"
    }
   ],
   "source": [
    "df_eminem.head()"
   ]
  },
  {
   "cell_type": "code",
   "execution_count": 8,
   "id": "cb8a6e07",
   "metadata": {},
   "outputs": [
    {
     "data": {
      "text/plain": [
       "1    245\n",
       "0    203\n",
       "Name: CLASS, dtype: int64"
      ]
     },
     "execution_count": 8,
     "metadata": {},
     "output_type": "execute_result"
    }
   ],
   "source": [
    "df_eminem.CLASS.value_counts()"
   ]
  },
  {
   "cell_type": "code",
   "execution_count": 10,
   "id": "b2274eb4",
   "metadata": {},
   "outputs": [
    {
     "data": {
      "text/html": [
       "<div>\n",
       "<style scoped>\n",
       "    .dataframe tbody tr th:only-of-type {\n",
       "        vertical-align: middle;\n",
       "    }\n",
       "\n",
       "    .dataframe tbody tr th {\n",
       "        vertical-align: top;\n",
       "    }\n",
       "\n",
       "    .dataframe thead th {\n",
       "        text-align: right;\n",
       "    }\n",
       "</style>\n",
       "<table border=\"1\" class=\"dataframe\">\n",
       "  <thead>\n",
       "    <tr style=\"text-align: right;\">\n",
       "      <th></th>\n",
       "      <th>COMMENT_ID</th>\n",
       "      <th>AUTHOR</th>\n",
       "      <th>DATE</th>\n",
       "      <th>CONTENT</th>\n",
       "      <th>CLASS</th>\n",
       "    </tr>\n",
       "  </thead>\n",
       "  <tbody>\n",
       "    <tr>\n",
       "      <th>0</th>\n",
       "      <td>z12rwfnyyrbsefonb232i5ehdxzkjzjs2</td>\n",
       "      <td>Lisa Wellas</td>\n",
       "      <td>NaN</td>\n",
       "      <td>+447935454150 lovely girl talk to me xxx﻿</td>\n",
       "      <td>1</td>\n",
       "    </tr>\n",
       "    <tr>\n",
       "      <th>1</th>\n",
       "      <td>z130wpnwwnyuetxcn23xf5k5ynmkdpjrj04</td>\n",
       "      <td>jason graham</td>\n",
       "      <td>2015-05-29T02:26:10.652000</td>\n",
       "      <td>I always end up coming back to this song&lt;br /&gt;﻿</td>\n",
       "      <td>0</td>\n",
       "    </tr>\n",
       "    <tr>\n",
       "      <th>2</th>\n",
       "      <td>z13vsfqirtavjvu0t22ezrgzyorwxhpf3</td>\n",
       "      <td>Ajkal Khan</td>\n",
       "      <td>NaN</td>\n",
       "      <td>my sister just received over 6,500 new &lt;a rel=...</td>\n",
       "      <td>1</td>\n",
       "    </tr>\n",
       "    <tr>\n",
       "      <th>3</th>\n",
       "      <td>z12wjzc4eprnvja4304cgbbizuved35wxcs</td>\n",
       "      <td>Dakota Taylor</td>\n",
       "      <td>2015-05-29T02:13:07.810000</td>\n",
       "      <td>Cool﻿</td>\n",
       "      <td>0</td>\n",
       "    </tr>\n",
       "    <tr>\n",
       "      <th>4</th>\n",
       "      <td>z13xjfr42z3uxdz2223gx5rrzs3dt5hna</td>\n",
       "      <td>Jihad Naser</td>\n",
       "      <td>NaN</td>\n",
       "      <td>Hello I&amp;#39;am from Palastine﻿</td>\n",
       "      <td>1</td>\n",
       "    </tr>\n",
       "  </tbody>\n",
       "</table>\n",
       "</div>"
      ],
      "text/plain": [
       "                            COMMENT_ID         AUTHOR  \\\n",
       "0    z12rwfnyyrbsefonb232i5ehdxzkjzjs2    Lisa Wellas   \n",
       "1  z130wpnwwnyuetxcn23xf5k5ynmkdpjrj04   jason graham   \n",
       "2    z13vsfqirtavjvu0t22ezrgzyorwxhpf3     Ajkal Khan   \n",
       "3  z12wjzc4eprnvja4304cgbbizuved35wxcs  Dakota Taylor   \n",
       "4    z13xjfr42z3uxdz2223gx5rrzs3dt5hna    Jihad Naser   \n",
       "\n",
       "                         DATE  \\\n",
       "0                         NaN   \n",
       "1  2015-05-29T02:26:10.652000   \n",
       "2                         NaN   \n",
       "3  2015-05-29T02:13:07.810000   \n",
       "4                         NaN   \n",
       "\n",
       "                                             CONTENT  CLASS  \n",
       "0          +447935454150 lovely girl talk to me xxx﻿      1  \n",
       "1    I always end up coming back to this song<br />﻿      0  \n",
       "2  my sister just received over 6,500 new <a rel=...      1  \n",
       "3                                              Cool﻿      0  \n",
       "4                     Hello I&#39;am from Palastine﻿      1  "
      ]
     },
     "execution_count": 10,
     "metadata": {},
     "output_type": "execute_result"
    }
   ],
   "source": [
    "df = pd.concat([df_eminem,df_kp,df_lmfao,df_psy,df_shakira])\n",
    "df.head()"
   ]
  },
  {
   "cell_type": "code",
   "execution_count": 11,
   "id": "bee339b5",
   "metadata": {},
   "outputs": [
    {
     "data": {
      "text/plain": [
       "(1956, 5)"
      ]
     },
     "execution_count": 11,
     "metadata": {},
     "output_type": "execute_result"
    }
   ],
   "source": [
    "df.shape"
   ]
  },
  {
   "cell_type": "code",
   "execution_count": 12,
   "id": "a540bbdd",
   "metadata": {},
   "outputs": [],
   "source": [
    "X = df['CONTENT'].values\n",
    "y = df['CLASS'].values "
   ]
  },
  {
   "cell_type": "code",
   "execution_count": 13,
   "id": "4680f6b2",
   "metadata": {},
   "outputs": [
    {
     "data": {
      "text/plain": [
       "array(['+447935454150 lovely girl talk to me xxx\\ufeff',\n",
       "       'I always end up coming back to this song<br />\\ufeff',\n",
       "       'my sister just received over 6,500 new <a rel=\"nofollow\" class=\"ot-hashtag\" href=\"https://plus.google.com/s/%23active\">#active</a> youtube views Right now. The only thing she used was pimpmyviews. com\\ufeff',\n",
       "       ..., 'wow', 'Shakira u are so wiredo',\n",
       "       'Shakira is the best dancer'], dtype=object)"
      ]
     },
     "execution_count": 13,
     "metadata": {},
     "output_type": "execute_result"
    }
   ],
   "source": [
    "X"
   ]
  },
  {
   "cell_type": "markdown",
   "id": "d3f78c96",
   "metadata": {},
   "source": [
    "# Data Split"
   ]
  },
  {
   "cell_type": "code",
   "execution_count": 16,
   "id": "bf779d8b",
   "metadata": {},
   "outputs": [
    {
     "data": {
      "text/plain": [
       "((1467,), (489,))"
      ]
     },
     "execution_count": 16,
     "metadata": {},
     "output_type": "execute_result"
    }
   ],
   "source": [
    "X_train , X_test , y_train , y_test = train_test_split(X,y,random_state=0)\n",
    "X_train.shape , X_test.shape"
   ]
  },
  {
   "cell_type": "markdown",
   "id": "51994b6b",
   "metadata": {},
   "source": [
    "# Bag of Words"
   ]
  },
  {
   "cell_type": "code",
   "execution_count": 18,
   "id": "a88ac822",
   "metadata": {},
   "outputs": [],
   "source": [
    "vect = CountVectorizer().fit(X_train)\n",
    "X_train_bag = vect.transform(X_train)\n",
    "X_test_bag  = vect.transform(X_test)"
   ]
  },
  {
   "cell_type": "code",
   "execution_count": 19,
   "id": "89eda11f",
   "metadata": {
    "scrolled": true
   },
   "outputs": [
    {
     "data": {
      "text/plain": [
       "(1467, 3733)"
      ]
     },
     "execution_count": 19,
     "metadata": {},
     "output_type": "execute_result"
    }
   ],
   "source": [
    "X_train_bag.shape"
   ]
  },
  {
   "cell_type": "code",
   "execution_count": 21,
   "id": "bcaa1e7c",
   "metadata": {},
   "outputs": [
    {
     "data": {
      "text/plain": [
       "array(['00', '000', '02', ..., 'ｔｈｉｓ', 'ｕｓｒ', 'ｗｗｗ'], dtype=object)"
      ]
     },
     "execution_count": 21,
     "metadata": {},
     "output_type": "execute_result"
    }
   ],
   "source": [
    "vect.get_feature_names_out()"
   ]
  },
  {
   "cell_type": "markdown",
   "id": "7dfb2000",
   "metadata": {},
   "source": [
    "# XGBClassifier"
   ]
  },
  {
   "cell_type": "code",
   "execution_count": 26,
   "id": "7dbdaa82",
   "metadata": {},
   "outputs": [],
   "source": [
    "xgb = XGBClassifier()\n",
    "scores = cross_val_score(xgb, X_train_bag, y_train)"
   ]
  },
  {
   "cell_type": "code",
   "execution_count": 27,
   "id": "11ee08ae",
   "metadata": {},
   "outputs": [
    {
     "data": {
      "text/plain": [
       "0.9420631051055235"
      ]
     },
     "execution_count": 27,
     "metadata": {},
     "output_type": "execute_result"
    }
   ],
   "source": [
    "scores.mean()"
   ]
  },
  {
   "cell_type": "markdown",
   "id": "62311035",
   "metadata": {},
   "source": [
    "# Confusion matrix"
   ]
  },
  {
   "cell_type": "code",
   "execution_count": 31,
   "id": "49e8ffea",
   "metadata": {},
   "outputs": [
    {
     "data": {
      "image/png": "[encoded data removed]",
      "text/plain": [
       "<Figure size 800x550 with 1 Axes>"
      ]
     },
     "metadata": {},
     "output_type": "display_data"
    },
    {
     "data": {
      "text/plain": [
       "<Axes: title={'center': 'XGBClassifier Confusion Matrix'}, xlabel='Predicted Class', ylabel='True Class'>"
      ]
     },
     "execution_count": 31,
     "metadata": {},
     "output_type": "execute_result"
    }
   ],
   "source": [
    "cm = ConfusionMatrix(xgb, classes=['Ham','Spam'])\n",
    "cm.fit(X_train_bag,y_train)\n",
    "cm.score(X_train_bag,y_train)\n",
    "cm.show()"
   ]
  },
  {
   "cell_type": "markdown",
   "id": "d17f089a",
   "metadata": {},
   "source": [
    "# Logistic Regression"
   ]
  },
  {
   "cell_type": "code",
   "execution_count": 34,
   "id": "29255fb7",
   "metadata": {},
   "outputs": [],
   "source": [
    "log_reg = LogisticRegression(max_iter=1000)\n",
    "scores = cross_val_score(log_reg, X_train_bag, y_train)"
   ]
  },
  {
   "cell_type": "code",
   "execution_count": 35,
   "id": "2a267190",
   "metadata": {},
   "outputs": [
    {
     "data": {
      "text/plain": [
       "0.9434306145666456"
      ]
     },
     "execution_count": 35,
     "metadata": {},
     "output_type": "execute_result"
    }
   ],
   "source": [
    "scores.mean()"
   ]
  },
  {
   "cell_type": "code",
   "execution_count": 36,
   "id": "fe2cfb17",
   "metadata": {},
   "outputs": [
    {
     "data": {
      "image/png": "[encoded data removed]",
      "text/plain": [
       "<Figure size 800x550 with 1 Axes>"
      ]
     },
     "metadata": {},
     "output_type": "display_data"
    },
    {
     "data": {
      "text/plain": [
       "<Axes: title={'center': 'LogisticRegression Confusion Matrix'}, xlabel='Predicted Class', ylabel='True Class'>"
      ]
     },
     "execution_count": 36,
     "metadata": {},
     "output_type": "execute_result"
    }
   ],
   "source": [
    "cm = ConfusionMatrix(log_reg, classes=['Ham','Spam'])\n",
    "cm.fit(X_train_bag,y_train)\n",
    "cm.score(X_train_bag,y_train)\n",
    "cm.show()"
   ]
  },
  {
   "cell_type": "markdown",
   "id": "0884bebc",
   "metadata": {},
   "source": [
    "# Removing Stop words"
   ]
  },
  {
   "cell_type": "code",
   "execution_count": 37,
   "id": "b3549cf2",
   "metadata": {},
   "outputs": [],
   "source": [
    "vect = CountVectorizer(stop_words='english').fit(X_train)\n",
    "X_train_bag = vect.transform(X_train)\n",
    "X_test_bag  = vect.transform(X_test)"
   ]
  },
  {
   "cell_type": "code",
   "execution_count": 38,
   "id": "1db0cc55",
   "metadata": {
    "scrolled": true
   },
   "outputs": [
    {
     "data": {
      "text/plain": [
       "(1467, 3512)"
      ]
     },
     "execution_count": 38,
     "metadata": {},
     "output_type": "execute_result"
    }
   ],
   "source": [
    "X_train_bag.shape"
   ]
  },
  {
   "cell_type": "code",
   "execution_count": 39,
   "id": "754fc7c7",
   "metadata": {},
   "outputs": [
    {
     "data": {
      "text/plain": [
       "array(['00', '000', '02', ..., 'ｔｈｉｓ', 'ｕｓｒ', 'ｗｗｗ'], dtype=object)"
      ]
     },
     "execution_count": 39,
     "metadata": {},
     "output_type": "execute_result"
    }
   ],
   "source": [
    "vect.get_feature_names_out()"
   ]
  },
  {
   "cell_type": "markdown",
   "id": "de3ca9cb",
   "metadata": {},
   "source": [
    "# XGBClassifier"
   ]
  },
  {
   "cell_type": "code",
   "execution_count": 40,
   "id": "bed42635",
   "metadata": {},
   "outputs": [],
   "source": [
    "xgb = XGBClassifier()\n",
    "scores = cross_val_score(xgb, X_train_bag, y_train)"
   ]
  },
  {
   "cell_type": "code",
   "execution_count": 41,
   "id": "fc027fb3",
   "metadata": {
    "scrolled": true
   },
   "outputs": [
    {
     "data": {
      "text/plain": [
       "0.9325183998514082"
      ]
     },
     "execution_count": 41,
     "metadata": {},
     "output_type": "execute_result"
    }
   ],
   "source": [
    "scores.mean()"
   ]
  },
  {
   "cell_type": "markdown",
   "id": "bcccfd09",
   "metadata": {},
   "source": [
    "# min_df"
   ]
  },
  {
   "cell_type": "code",
   "execution_count": 42,
   "id": "c0626566",
   "metadata": {},
   "outputs": [],
   "source": [
    "vect = CountVectorizer(min_df=10).fit(X_train)\n",
    "X_train_bag = vect.transform(X_train)\n",
    "X_test_bag  = vect.transform(X_test)"
   ]
  },
  {
   "cell_type": "code",
   "execution_count": 43,
   "id": "80f62a21",
   "metadata": {
    "scrolled": true
   },
   "outputs": [
    {
     "data": {
      "text/plain": [
       "(1467, 304)"
      ]
     },
     "execution_count": 43,
     "metadata": {},
     "output_type": "execute_result"
    }
   ],
   "source": [
    "X_train_bag.shape"
   ]
  },
  {
   "cell_type": "code",
   "execution_count": 44,
   "id": "a48c283b",
   "metadata": {},
   "outputs": [
    {
     "data": {
      "text/plain": [
       "array(['000', '100', '15', '2014', '2015', '39', 'about', 'ago', 'all',\n",
       "       'also', 'am', 'amp', 'an', 'and', 'any', 'anyone', 'appreciate',\n",
       "       'are', 'as', 'at', 'awesome', 'back', 'be', 'beautiful', 'because',\n",
       "       'been', 'before', 'being', 'best', 'better', 'billion', 'boy',\n",
       "       'br', 'but', 'by', 'called', 'can', 'chance', 'channel', 'check',\n",
       "       'click', 'co', 'com', 'come', 'comment', 'comments', 'cool',\n",
       "       'could', 'cover', 'covers', 'crazy', 'dance', 'day', 'did', 'do',\n",
       "       'does', 'doing', 'don', 'dont', 'dream', 'earth', 'eminem',\n",
       "       'enjoy', 'even', 'ever', 'every', 'everyday', 'everyone',\n",
       "       'extraordinary', 'facebook', 'fans', 'feel', 'few', 'first',\n",
       "       'follow', 'for', 'fox', 'free', 'from', 'fuck', 'fucking', 'funny',\n",
       "       'gangnam', 'get', 'gets', 'getting', 'girl', 'give', 'go', 'god',\n",
       "       'good', 'google', 'got', 'great', 'gt', 'guy', 'guys', 'has',\n",
       "       'hate', 'have', 'he', 'hear', 'heard', 'hello', 'help', 'her',\n",
       "       'here', 'hey', 'hi', 'his', 'home', 'hope', 'how', 'href', 'http',\n",
       "       'https', 'id', 'if', 'im', 'in', 'is', 'it', 'its', 'just', 'katy',\n",
       "       'keep', 'know', 'leave', 'lie', 'life', 'like', 'likes', 'link',\n",
       "       'listen', 'little', 'live', 'll', 'lol', 'look', 'lot', 'love',\n",
       "       'lt', 'lyrics', 'made', 'make', 'making', 'man', 'many', 'maybe',\n",
       "       'me', 'mean', 'megan', 'million', 'moment', 'money', 'month',\n",
       "       'more', 'most', 'much', 'music', 'my', 'name', 'need', 'never',\n",
       "       'new', 'nice', 'no', 'not', 'nothing', 'now', 'of', 'off', 'old',\n",
       "       'omg', 'on', 'one', 'online', 'only', 'or', 'our', 'out', 'over',\n",
       "       'page', 'part', 'party', 'people', 'per', 'perry', 'person',\n",
       "       'play', 'playlist', 'please', 'plus', 'probably', 'psy', 'quot',\n",
       "       'rap', 'rapper', 're', 'reach', 'read', 'reading', 'real',\n",
       "       'really', 'ref', 'regret', 'right', 'rihanna', 'roar', 'rock',\n",
       "       'same', 'see', 'sexy', 'shakira', 'share', 'she', 'shit', 'should',\n",
       "       'simple', 'singer', 'so', 'some', 'someone', 'song', 'songs',\n",
       "       'soon', 'sorry', 'spam', 'start', 'started', 'still', 'stop',\n",
       "       'style', 'sub', 'subscribe', 'subscribers', 'such', 'support',\n",
       "       'take', 'than', 'thank', 'thanks', 'that', 'the', 'their', 'them',\n",
       "       'then', 'there', 'these', 'they', 'think', 'this', 'those',\n",
       "       'thumbs', 'tiger', 'time', 'to', 'today', 'too', 'true', 'trying',\n",
       "       'type', 'up', 'us', 've', 'very', 'video', 'videos', 'view',\n",
       "       'views', 'visit', 'waka', 'wanna', 'want', 'was', 'watch',\n",
       "       'watching', 'way', 'we', 'website', 'were', 'what', 'when',\n",
       "       'where', 'while', 'who', 'why', 'will', 'with', 'won', 'work',\n",
       "       'working', 'world', 'would', 'wow', 'www', 'xd', 'year', 'years',\n",
       "       'you', 'young', 'your', 'youtu', 'youtube'], dtype=object)"
      ]
     },
     "execution_count": 44,
     "metadata": {},
     "output_type": "execute_result"
    }
   ],
   "source": [
    "vect.get_feature_names_out()"
   ]
  },
  {
   "cell_type": "markdown",
   "id": "ab5c88a8",
   "metadata": {},
   "source": [
    "# XGBClassifier"
   ]
  },
  {
   "cell_type": "code",
   "execution_count": 45,
   "id": "d340d302",
   "metadata": {},
   "outputs": [],
   "source": [
    "xgb = XGBClassifier()\n",
    "scores = cross_val_score(xgb, X_train_bag, y_train)"
   ]
  },
  {
   "cell_type": "code",
   "execution_count": 46,
   "id": "84ee07cb",
   "metadata": {
    "scrolled": true
   },
   "outputs": [
    {
     "data": {
      "text/plain": [
       "0.9400292540224282"
      ]
     },
     "execution_count": 46,
     "metadata": {},
     "output_type": "execute_result"
    }
   ],
   "source": [
    "scores.mean()"
   ]
  },
  {
   "cell_type": "markdown",
   "id": "a460f1f3",
   "metadata": {},
   "source": [
    "# max_df"
   ]
  },
  {
   "cell_type": "code",
   "execution_count": 47,
   "id": "e0898058",
   "metadata": {},
   "outputs": [],
   "source": [
    "vect = CountVectorizer(max_df=0.01).fit(X_train)\n",
    "X_train_bag = vect.transform(X_train)\n",
    "X_test_bag  = vect.transform(X_test)"
   ]
  },
  {
   "cell_type": "code",
   "execution_count": 48,
   "id": "4d45f17d",
   "metadata": {
    "scrolled": true
   },
   "outputs": [
    {
     "data": {
      "text/plain": [
       "(1467, 3513)"
      ]
     },
     "execution_count": 48,
     "metadata": {},
     "output_type": "execute_result"
    }
   ],
   "source": [
    "X_train_bag.shape"
   ]
  },
  {
   "cell_type": "code",
   "execution_count": 49,
   "id": "36984f69",
   "metadata": {},
   "outputs": [
    {
     "data": {
      "text/plain": [
       "array(['00', '02', '047000', ..., 'ｔｈｉｓ', 'ｕｓｒ', 'ｗｗｗ'], dtype=object)"
      ]
     },
     "execution_count": 49,
     "metadata": {},
     "output_type": "execute_result"
    }
   ],
   "source": [
    "vect.get_feature_names_out()"
   ]
  },
  {
   "cell_type": "markdown",
   "id": "1763ab7a",
   "metadata": {},
   "source": [
    "# XGBClassifier"
   ]
  },
  {
   "cell_type": "code",
   "execution_count": 50,
   "id": "5054e34c",
   "metadata": {},
   "outputs": [],
   "source": [
    "xgb = XGBClassifier()\n",
    "scores = cross_val_score(xgb, X_train_bag, y_train)"
   ]
  },
  {
   "cell_type": "code",
   "execution_count": 51,
   "id": "91ce8ee6",
   "metadata": {
    "scrolled": false
   },
   "outputs": [
    {
     "data": {
      "text/plain": [
       "0.6441549998839126"
      ]
     },
     "execution_count": 51,
     "metadata": {},
     "output_type": "execute_result"
    }
   ],
   "source": [
    "scores.mean()"
   ]
  },
  {
   "cell_type": "markdown",
   "id": "c4a00d4a",
   "metadata": {},
   "source": [
    "# tfidf"
   ]
  },
  {
   "cell_type": "code",
   "execution_count": 56,
   "id": "ac815da7",
   "metadata": {},
   "outputs": [],
   "source": [
    "tfidf = TfidfVectorizer().fit(X_train)\n",
    "X_train_tfidf = tfidf.transform(X_train)\n",
    "X_test_tfidf  = tfidf.transform(X_test)"
   ]
  },
  {
   "cell_type": "code",
   "execution_count": 57,
   "id": "36b30445",
   "metadata": {
    "scrolled": true
   },
   "outputs": [
    {
     "data": {
      "text/plain": [
       "(1467, 3733)"
      ]
     },
     "execution_count": 57,
     "metadata": {},
     "output_type": "execute_result"
    }
   ],
   "source": [
    "X_train_tfidf.shape"
   ]
  },
  {
   "cell_type": "markdown",
   "id": "f617eee9",
   "metadata": {},
   "source": [
    "# XGBClassifier"
   ]
  },
  {
   "cell_type": "code",
   "execution_count": 58,
   "id": "3ccbb69c",
   "metadata": {},
   "outputs": [],
   "source": [
    "xgb = XGBClassifier()\n",
    "scores = cross_val_score(xgb, X_train_tfidf, y_train)"
   ]
  },
  {
   "cell_type": "code",
   "execution_count": 59,
   "id": "8d188515",
   "metadata": {
    "scrolled": true
   },
   "outputs": [
    {
     "data": {
      "text/plain": [
       "0.9352650275127117"
      ]
     },
     "execution_count": 59,
     "metadata": {},
     "output_type": "execute_result"
    }
   ],
   "source": [
    "scores.mean()"
   ]
  },
  {
   "cell_type": "markdown",
   "id": "e101bbd0",
   "metadata": {},
   "source": [
    "# Feature Importances"
   ]
  },
  {
   "cell_type": "code",
   "execution_count": 60,
   "id": "abbdbca8",
   "metadata": {},
   "outputs": [],
   "source": [
    "vect = CountVectorizer(min_df=10).fit(X_train)\n",
    "X_train_bag = vect.transform(X_train)\n",
    "X_test_bag  = vect.transform(X_test)"
   ]
  },
  {
   "cell_type": "code",
   "execution_count": 63,
   "id": "7014322c",
   "metadata": {},
   "outputs": [
    {
     "data": {
      "text/plain": [
       "(1467, 304)"
      ]
     },
     "execution_count": 63,
     "metadata": {},
     "output_type": "execute_result"
    }
   ],
   "source": [
    "X_train_bag.shape"
   ]
  },
  {
   "cell_type": "code",
   "execution_count": 61,
   "id": "ca6808b3",
   "metadata": {},
   "outputs": [
    {
     "data": {
      "text/html": [
       "<style>#sk-container-id-1 {color: black;background-color: white;}#sk-container-id-1 pre{padding: 0;}#sk-container-id-1 div.sk-toggleable {background-color: white;}#sk-container-id-1 label.sk-toggleable__label {cursor: pointer;display: block;width: 100%;margin-bottom: 0;padding: 0.3em;box-sizing: border-box;text-align: center;}#sk-container-id-1 label.sk-toggleable__label-arrow:before {content: \"▸\";float: left;margin-right: 0.25em;color: #696969;}#sk-container-id-1 label.sk-toggleable__label-arrow:hover:before {color: black;}#sk-container-id-1 div.sk-estimator:hover label.sk-toggleable__label-arrow:before {color: black;}#sk-container-id-1 div.sk-toggleable__content {max-height: 0;max-width: 0;overflow: hidden;text-align: left;background-color: #f0f8ff;}#sk-container-id-1 div.sk-toggleable__content pre {margin: 0.2em;color: black;border-radius: 0.25em;background-color: #f0f8ff;}#sk-container-id-1 input.sk-toggleable__control:checked~div.sk-toggleable__content {max-height: 200px;max-width: 100%;overflow: auto;}#sk-container-id-1 input.sk-toggleable__control:checked~label.sk-toggleable__label-arrow:before {content: \"▾\";}#sk-container-id-1 div.sk-estimator input.sk-toggleable__control:checked~label.sk-toggleable__label {background-color: #d4ebff;}#sk-container-id-1 div.sk-label input.sk-toggleable__control:checked~label.sk-toggleable__label {background-color: #d4ebff;}#sk-container-id-1 input.sk-hidden--visually {border: 0;clip: rect(1px 1px 1px 1px);clip: rect(1px, 1px, 1px, 1px);height: 1px;margin: -1px;overflow: hidden;padding: 0;position: absolute;width: 1px;}#sk-container-id-1 div.sk-estimator {font-family: monospace;background-color: #f0f8ff;border: 1px dotted black;border-radius: 0.25em;box-sizing: border-box;margin-bottom: 0.5em;}#sk-container-id-1 div.sk-estimator:hover {background-color: #d4ebff;}#sk-container-id-1 div.sk-parallel-item::after {content: \"\";width: 100%;border-bottom: 1px solid gray;flex-grow: 1;}#sk-container-id-1 div.sk-label:hover label.sk-toggleable__label {background-color: #d4ebff;}#sk-container-id-1 div.sk-serial::before {content: \"\";position: absolute;border-left: 1px solid gray;box-sizing: border-box;top: 0;bottom: 0;left: 50%;z-index: 0;}#sk-container-id-1 div.sk-serial {display: flex;flex-direction: column;align-items: center;background-color: white;padding-right: 0.2em;padding-left: 0.2em;position: relative;}#sk-container-id-1 div.sk-item {position: relative;z-index: 1;}#sk-container-id-1 div.sk-parallel {display: flex;align-items: stretch;justify-content: center;background-color: white;position: relative;}#sk-container-id-1 div.sk-item::before, #sk-container-id-1 div.sk-parallel-item::before {content: \"\";position: absolute;border-left: 1px solid gray;box-sizing: border-box;top: 0;bottom: 0;left: 50%;z-index: -1;}#sk-container-id-1 div.sk-parallel-item {display: flex;flex-direction: column;z-index: 1;position: relative;background-color: white;}#sk-container-id-1 div.sk-parallel-item:first-child::after {align-self: flex-end;width: 50%;}#sk-container-id-1 div.sk-parallel-item:last-child::after {align-self: flex-start;width: 50%;}#sk-container-id-1 div.sk-parallel-item:only-child::after {width: 0;}#sk-container-id-1 div.sk-dashed-wrapped {border: 1px dashed gray;margin: 0 0.4em 0.5em 0.4em;box-sizing: border-box;padding-bottom: 0.4em;background-color: white;}#sk-container-id-1 div.sk-label label {font-family: monospace;font-weight: bold;display: inline-block;line-height: 1.2em;}#sk-container-id-1 div.sk-label-container {text-align: center;}#sk-container-id-1 div.sk-container {/* jupyter's `normalize.less` sets `[hidden] { display: none; }` but bootstrap.min.css set `[hidden] { display: none !important; }` so we also need the `!important` here to be able to override the default hidden behavior on the sphinx rendered scikit-learn.org. See: https://github.com/scikit-learn/scikit-learn/issues/21755 */display: inline-block !important;position: relative;}#sk-container-id-1 div.sk-text-repr-fallback {display: none;}</style><div id=\"sk-container-id-1\" class=\"sk-top-container\"><div class=\"sk-text-repr-fallback\"><pre>XGBClassifier(base_score=None, booster=None, callbacks=None,\n",
       "              colsample_bylevel=None, colsample_bynode=None,\n",
       "              colsample_bytree=None, early_stopping_rounds=None,\n",
       "              enable_categorical=False, eval_metric=None, feature_types=None,\n",
       "              gamma=None, gpu_id=None, grow_policy=None, importance_type=None,\n",
       "              interaction_constraints=None, learning_rate=None, max_bin=None,\n",
       "              max_cat_threshold=None, max_cat_to_onehot=None,\n",
       "              max_delta_step=None, max_depth=None, max_leaves=None,\n",
       "              min_child_weight=None, missing=nan, monotone_constraints=None,\n",
       "              n_estimators=100, n_jobs=None, num_parallel_tree=None,\n",
       "              predictor=None, random_state=None, ...)</pre><b>In a Jupyter environment, please rerun this cell to show the HTML representation or trust the notebook. <br />On GitHub, the HTML representation is unable to render, please try loading this page with nbviewer.org.</b></div><div class=\"sk-container\" hidden><div class=\"sk-item\"><div class=\"sk-estimator sk-toggleable\"><input class=\"sk-toggleable__control sk-hidden--visually\" id=\"sk-estimator-id-1\" type=\"checkbox\" checked><label for=\"sk-estimator-id-1\" class=\"sk-toggleable__label sk-toggleable__label-arrow\">XGBClassifier</label><div class=\"sk-toggleable__content\"><pre>XGBClassifier(base_score=None, booster=None, callbacks=None,\n",
       "              colsample_bylevel=None, colsample_bynode=None,\n",
       "              colsample_bytree=None, early_stopping_rounds=None,\n",
       "              enable_categorical=False, eval_metric=None, feature_types=None,\n",
       "              gamma=None, gpu_id=None, grow_policy=None, importance_type=None,\n",
       "              interaction_constraints=None, learning_rate=None, max_bin=None,\n",
       "              max_cat_threshold=None, max_cat_to_onehot=None,\n",
       "              max_delta_step=None, max_depth=None, max_leaves=None,\n",
       "              min_child_weight=None, missing=nan, monotone_constraints=None,\n",
       "              n_estimators=100, n_jobs=None, num_parallel_tree=None,\n",
       "              predictor=None, random_state=None, ...)</pre></div></div></div></div></div>"
      ],
      "text/plain": [
       "XGBClassifier(base_score=None, booster=None, callbacks=None,\n",
       "              colsample_bylevel=None, colsample_bynode=None,\n",
       "              colsample_bytree=None, early_stopping_rounds=None,\n",
       "              enable_categorical=False, eval_metric=None, feature_types=None,\n",
       "              gamma=None, gpu_id=None, grow_policy=None, importance_type=None,\n",
       "              interaction_constraints=None, learning_rate=None, max_bin=None,\n",
       "              max_cat_threshold=None, max_cat_to_onehot=None,\n",
       "              max_delta_step=None, max_depth=None, max_leaves=None,\n",
       "              min_child_weight=None, missing=nan, monotone_constraints=None,\n",
       "              n_estimators=100, n_jobs=None, num_parallel_tree=None,\n",
       "              predictor=None, random_state=None, ...)"
      ]
     },
     "execution_count": 61,
     "metadata": {},
     "output_type": "execute_result"
    }
   ],
   "source": [
    "xgb = XGBClassifier()\n",
    "xgb.fit(X_train_bag,y_train)"
   ]
  },
  {
   "cell_type": "code",
   "execution_count": 67,
   "id": "905de1b1",
   "metadata": {},
   "outputs": [
    {
     "data": {
      "text/plain": [
       "array([0.00264412, 0.        , 0.        , 0.        , 0.00124283,\n",
       "       0.00109832, 0.        , 0.        , 0.00194225, 0.        ,\n",
       "       0.        , 0.00566874, 0.        , 0.00272178, 0.        ,\n",
       "       0.        , 0.        , 0.00196752, 0.        , 0.004716  ,\n",
       "       0.        , 0.        , 0.00484205, 0.        , 0.        ,\n",
       "       0.        , 0.        , 0.        , 0.00236494, 0.        ,\n",
       "       0.00794765, 0.        , 0.00124027, 0.00110999, 0.        ,\n",
       "       0.        , 0.0042966 , 0.        , 0.04357539, 0.0455463 ,\n",
       "       0.        , 0.0123476 , 0.09842573, 0.        , 0.01994626,\n",
       "       0.003529  , 0.        , 0.        , 0.        , 0.        ,\n",
       "       0.        , 0.        , 0.        , 0.        , 0.        ,\n",
       "       0.        , 0.        , 0.        , 0.        , 0.        ,\n",
       "       0.        , 0.00092944, 0.        , 0.00317388, 0.        ,\n",
       "       0.        , 0.        , 0.        , 0.        , 0.        ,\n",
       "       0.        , 0.        , 0.        , 0.        , 0.02304188,\n",
       "       0.006541  , 0.        , 0.        , 0.0009532 , 0.        ,\n",
       "       0.        , 0.        , 0.        , 0.        , 0.        ,\n",
       "       0.        , 0.        , 0.00903924, 0.        , 0.        ,\n",
       "       0.00201897, 0.01347646, 0.        , 0.        , 0.        ,\n",
       "       0.        , 0.        , 0.        , 0.        , 0.00189409,\n",
       "       0.00412475, 0.        , 0.        , 0.        , 0.00882948,\n",
       "       0.        , 0.        , 0.        , 0.        , 0.        ,\n",
       "       0.        , 0.        , 0.00113564, 0.00475499, 0.00989368,\n",
       "       0.01122694, 0.        , 0.01257607, 0.        , 0.00202898,\n",
       "       0.00495194, 0.00183761, 0.00070451, 0.00089729, 0.00443892,\n",
       "       0.        , 0.        , 0.        , 0.        , 0.        ,\n",
       "       0.00201709, 0.        , 0.        , 0.        , 0.        ,\n",
       "       0.        , 0.        , 0.        , 0.00093973, 0.        ,\n",
       "       0.00416798, 0.        , 0.        , 0.        , 0.00275341,\n",
       "       0.        , 0.        , 0.        , 0.        , 0.00914052,\n",
       "       0.        , 0.        , 0.        , 0.        , 0.01207044,\n",
       "       0.        , 0.00140652, 0.        , 0.        , 0.00210816,\n",
       "       0.01523249, 0.        , 0.        , 0.        , 0.00430673,\n",
       "       0.        , 0.        , 0.00248984, 0.        , 0.        ,\n",
       "       0.00157592, 0.        , 0.        , 0.        , 0.01036031,\n",
       "       0.00965688, 0.        , 0.        , 0.00316522, 0.        ,\n",
       "       0.15609205, 0.        , 0.        , 0.        , 0.00156227,\n",
       "       0.        , 0.        , 0.00227783, 0.        , 0.        ,\n",
       "       0.        , 0.03201103, 0.        , 0.        , 0.00528722,\n",
       "       0.        , 0.        , 0.        , 0.        , 0.        ,\n",
       "       0.        , 0.        , 0.        , 0.0052828 , 0.        ,\n",
       "       0.        , 0.        , 0.        , 0.        , 0.00565142,\n",
       "       0.        , 0.00175675, 0.        , 0.00363056, 0.02241079,\n",
       "       0.00069816, 0.        , 0.        , 0.        , 0.        ,\n",
       "       0.00251238, 0.        , 0.        , 0.00725278, 0.        ,\n",
       "       0.        , 0.        , 0.        , 0.        , 0.        ,\n",
       "       0.        , 0.        , 0.        , 0.        , 0.10784317,\n",
       "       0.02249379, 0.        , 0.        , 0.01064227, 0.        ,\n",
       "       0.        , 0.        , 0.00201386, 0.00170769, 0.        ,\n",
       "       0.        , 0.        , 0.        , 0.        , 0.00299497,\n",
       "       0.00088045, 0.00199163, 0.        , 0.00348008, 0.        ,\n",
       "       0.        , 0.00607257, 0.        , 0.        , 0.        ,\n",
       "       0.        , 0.        , 0.01136468, 0.        , 0.        ,\n",
       "       0.        , 0.00209679, 0.        , 0.        , 0.0058104 ,\n",
       "       0.01241157, 0.        , 0.        , 0.        , 0.        ,\n",
       "       0.0032691 , 0.00549279, 0.        , 0.        , 0.        ,\n",
       "       0.        , 0.00422856, 0.00249619, 0.        , 0.        ,\n",
       "       0.00155815, 0.        , 0.        , 0.00073757, 0.        ,\n",
       "       0.        , 0.        , 0.        , 0.        , 0.        ,\n",
       "       0.05330231, 0.        , 0.        , 0.        , 0.00346901,\n",
       "       0.        , 0.00222672, 0.00526948, 0.00268665], dtype=float32)"
      ]
     },
     "execution_count": 67,
     "metadata": {},
     "output_type": "execute_result"
    }
   ],
   "source": [
    "f_imp = xgb.feature_importances_\n",
    "f_imp"
   ]
  },
  {
   "cell_type": "code",
   "execution_count": 65,
   "id": "86c095c4",
   "metadata": {},
   "outputs": [
    {
     "data": {
      "text/plain": [
       "(304,)"
      ]
     },
     "execution_count": 65,
     "metadata": {},
     "output_type": "execute_result"
    }
   ],
   "source": [
    "f_names = vect.get_feature_names_out()\n",
    "f_names.shape"
   ]
  },
  {
   "cell_type": "code",
   "execution_count": 66,
   "id": "37ace69f",
   "metadata": {},
   "outputs": [
    {
     "data": {
      "text/plain": [
       "array(['000', '100', '15', '2014', '2015', '39', 'about', 'ago', 'all',\n",
       "       'also', 'am', 'amp', 'an', 'and', 'any', 'anyone', 'appreciate',\n",
       "       'are', 'as', 'at', 'awesome', 'back', 'be', 'beautiful', 'because',\n",
       "       'been', 'before', 'being', 'best', 'better', 'billion', 'boy',\n",
       "       'br', 'but', 'by', 'called', 'can', 'chance', 'channel', 'check',\n",
       "       'click', 'co', 'com', 'come', 'comment', 'comments', 'cool',\n",
       "       'could', 'cover', 'covers', 'crazy', 'dance', 'day', 'did', 'do',\n",
       "       'does', 'doing', 'don', 'dont', 'dream', 'earth', 'eminem',\n",
       "       'enjoy', 'even', 'ever', 'every', 'everyday', 'everyone',\n",
       "       'extraordinary', 'facebook', 'fans', 'feel', 'few', 'first',\n",
       "       'follow', 'for', 'fox', 'free', 'from', 'fuck', 'fucking', 'funny',\n",
       "       'gangnam', 'get', 'gets', 'getting', 'girl', 'give', 'go', 'god',\n",
       "       'good', 'google', 'got', 'great', 'gt', 'guy', 'guys', 'has',\n",
       "       'hate', 'have', 'he', 'hear', 'heard', 'hello', 'help', 'her',\n",
       "       'here', 'hey', 'hi', 'his', 'home', 'hope', 'how', 'href', 'http',\n",
       "       'https', 'id', 'if', 'im', 'in', 'is', 'it', 'its', 'just', 'katy',\n",
       "       'keep', 'know', 'leave', 'lie', 'life', 'like', 'likes', 'link',\n",
       "       'listen', 'little', 'live', 'll', 'lol', 'look', 'lot', 'love',\n",
       "       'lt', 'lyrics', 'made', 'make', 'making', 'man', 'many', 'maybe',\n",
       "       'me', 'mean', 'megan', 'million', 'moment', 'money', 'month',\n",
       "       'more', 'most', 'much', 'music', 'my', 'name', 'need', 'never',\n",
       "       'new', 'nice', 'no', 'not', 'nothing', 'now', 'of', 'off', 'old',\n",
       "       'omg', 'on', 'one', 'online', 'only', 'or', 'our', 'out', 'over',\n",
       "       'page', 'part', 'party', 'people', 'per', 'perry', 'person',\n",
       "       'play', 'playlist', 'please', 'plus', 'probably', 'psy', 'quot',\n",
       "       'rap', 'rapper', 're', 'reach', 'read', 'reading', 'real',\n",
       "       'really', 'ref', 'regret', 'right', 'rihanna', 'roar', 'rock',\n",
       "       'same', 'see', 'sexy', 'shakira', 'share', 'she', 'shit', 'should',\n",
       "       'simple', 'singer', 'so', 'some', 'someone', 'song', 'songs',\n",
       "       'soon', 'sorry', 'spam', 'start', 'started', 'still', 'stop',\n",
       "       'style', 'sub', 'subscribe', 'subscribers', 'such', 'support',\n",
       "       'take', 'than', 'thank', 'thanks', 'that', 'the', 'their', 'them',\n",
       "       'then', 'there', 'these', 'they', 'think', 'this', 'those',\n",
       "       'thumbs', 'tiger', 'time', 'to', 'today', 'too', 'true', 'trying',\n",
       "       'type', 'up', 'us', 've', 'very', 'video', 'videos', 'view',\n",
       "       'views', 'visit', 'waka', 'wanna', 'want', 'was', 'watch',\n",
       "       'watching', 'way', 'we', 'website', 'were', 'what', 'when',\n",
       "       'where', 'while', 'who', 'why', 'will', 'with', 'won', 'work',\n",
       "       'working', 'world', 'would', 'wow', 'www', 'xd', 'year', 'years',\n",
       "       'you', 'young', 'your', 'youtu', 'youtube'], dtype=object)"
      ]
     },
     "execution_count": 66,
     "metadata": {},
     "output_type": "execute_result"
    }
   ],
   "source": [
    "f_names"
   ]
  },
  {
   "cell_type": "code",
   "execution_count": 68,
   "id": "2433f3d1",
   "metadata": {},
   "outputs": [
    {
     "data": {
      "text/plain": [
       "array([151, 267, 150, 152, 153, 265, 155, 157, 158, 264, 161, 162, 148,\n",
       "       163, 165, 166, 168, 169, 171, 172, 173, 261, 260, 176, 177, 263,\n",
       "       259, 147, 145, 277, 116, 274, 118, 273, 272, 125, 126, 127, 128,\n",
       "       129, 146, 131, 133, 134, 135, 136, 137, 139, 271, 141, 142, 143,\n",
       "       268, 132, 179, 258, 181, 217, 218, 219, 221, 222, 248, 224, 225,\n",
       "       226, 227, 228, 216, 229, 231, 232, 233, 247, 246, 236, 237, 245,\n",
       "       239, 240, 241, 230, 212, 210, 252, 182, 183, 185, 186, 188, 189,\n",
       "       190, 257, 192, 193, 255, 195, 196, 197, 198, 199, 200, 201, 202,\n",
       "       254, 204, 205, 206, 207, 208, 278, 279, 244, 111,  37, 293, 292,\n",
       "        40, 291, 290,  43, 289,  46,  47,  48, 294,  49,  51,  52,  53,\n",
       "        54,  55,  56,  58,  59,  60,  62, 287,  50,  64,  35,  31,   1,\n",
       "         2,   3,   6,   7,   9,  10,  12, 300,  14,  15,  34,  16, 298,\n",
       "        20,  21, 297,  23,  24,  25,  26,  27,  29, 296,  18,  65,  57,\n",
       "        80,  94,  81,  82,  83,  84,  85,  86, 103, 284,  89, 102, 283,\n",
       "       101,  98,  66,  92,  88,  93,  79,  96, 110,  67,  68,  69,  95,\n",
       "        70,  71,  72, 280, 109, 108, 286, 107, 106, 105,  76,  77,  73,\n",
       "        97, 215, 122, 288, 250, 123,  61, 138,  78,   5,  33, 112,  32,\n",
       "         4, 156, 285, 184, 170, 243, 211, 121,  99,   8,  17, 251, 242,\n",
       "       130,  90, 119, 266, 159, 301, 187,  28, 167, 282, 220,   0, 303,\n",
       "        13, 144, 249, 178,  63, 275, 299, 253,  45, 213, 100, 140, 281,\n",
       "        36, 164, 124,  19, 113,  22, 120, 302, 203, 194, 276, 209,  11,\n",
       "       269, 256,  75, 223,  30, 104,  87, 149, 175, 114, 174, 238, 115,\n",
       "       262, 154,  41, 270, 117,  91, 160,  44, 214, 235,  74, 191,  38,\n",
       "        39, 295,  42, 234, 180], dtype=int64)"
      ]
     },
     "execution_count": 68,
     "metadata": {},
     "output_type": "execute_result"
    }
   ],
   "source": [
    "f_imp.argsort()"
   ]
  },
  {
   "cell_type": "code",
   "execution_count": 70,
   "id": "34698430",
   "metadata": {},
   "outputs": [
    {
     "data": {
      "text/plain": [
       "array(['megan', 'videos', 'mean', 'million', 'moment', 'very', 'month',\n",
       "       'most', 'much', 've', 'name', 'need', 'maybe', 'never', 'nice',\n",
       "       'no', 'nothing', 'now', 'off', 'old', 'omg', 'type', 'trying',\n",
       "       'online', 'only', 'us', 'true', 'many', 'making', 'way', 'id',\n",
       "       'was', 'im', 'want', 'wanna', 'keep', 'know', 'leave', 'lie',\n",
       "       'life', 'man', 'likes', 'listen', 'little', 'live', 'll', 'lol',\n",
       "       'lot', 'waka', 'lt', 'lyrics', 'made', 'view', 'link', 'our',\n",
       "       'too', 'over', 'should', 'simple', 'singer', 'some', 'someone',\n",
       "       'these', 'songs', 'soon', 'sorry', 'spam', 'start', 'shit',\n",
       "       'started', 'stop', 'style', 'sub', 'there', 'then', 'such',\n",
       "       'support', 'them', 'than', 'thank', 'thanks', 'still', 'sexy',\n",
       "       'same', 'those', 'page', 'part', 'people', 'per', 'person', 'play',\n",
       "       'playlist', 'today', 'plus', 'probably', 'time', 'quot', 'rap',\n",
       "       'rapper', 're', 'reach', 'read', 'reading', 'real', 'tiger', 'ref',\n",
       "       'regret', 'right', 'rihanna', 'roar', 'we', 'website', 'their',\n",
       "       'hope', 'chance', 'would', 'world', 'click', 'working', 'work',\n",
       "       'come', 'won', 'cool', 'could', 'cover', 'wow', 'covers', 'dance',\n",
       "       'day', 'did', 'do', 'does', 'doing', 'dont', 'dream', 'earth',\n",
       "       'enjoy', 'will', 'crazy', 'ever', 'called', 'boy', '100', '15',\n",
       "       '2014', 'about', 'ago', 'also', 'am', 'an', 'young', 'any',\n",
       "       'anyone', 'by', 'appreciate', 'years', 'awesome', 'back', 'year',\n",
       "       'beautiful', 'because', 'been', 'before', 'being', 'better', 'xd',\n",
       "       'as', 'every', 'don', 'fucking', 'gt', 'funny', 'gangnam', 'get',\n",
       "       'gets', 'getting', 'girl', 'hello', 'while', 'god', 'heard',\n",
       "       'where', 'hear', 'hate', 'everyday', 'got', 'go', 'great', 'fuck',\n",
       "       'guys', 'home', 'everyone', 'extraordinary', 'facebook', 'guy',\n",
       "       'fans', 'feel', 'few', 'were', 'his', 'hi', 'why', 'hey', 'here',\n",
       "       'her', 'fox', 'free', 'first', 'has', 'she', 'its', 'with',\n",
       "       'think', 'just', 'eminem', 'look', 'from', '39', 'but', 'how',\n",
       "       'br', '2015', 'more', 'who', 'party', 'of', 'the', 'see', 'it',\n",
       "       'have', 'all', 'are', 'this', 'that', 'like', 'good', 'in',\n",
       "       'video', 'music', 'your', 'perry', 'best', 'not', 'when', 'so',\n",
       "       '000', 'youtube', 'and', 'make', 'they', 'or', 'even', 'watch',\n",
       "       'you', 'thumbs', 'comments', 'shakira', 'he', 'love', 'what',\n",
       "       'can', 'new', 'katy', 'at', 'href', 'be', 'is', 'youtu', 'really',\n",
       "       'psy', 'watching', 'rock', 'amp', 'views', 'to', 'for', 'song',\n",
       "       'billion', 'help', 'give', 'me', 'one', 'http', 'on', 'take',\n",
       "       'https', 'up', 'money', 'co', 'visit', 'if', 'google', 'my',\n",
       "       'comment', 'share', 'subscribers', 'follow', 'please', 'channel',\n",
       "       'check', 'www', 'com', 'subscribe', 'out'], dtype=object)"
      ]
     },
     "execution_count": 70,
     "metadata": {},
     "output_type": "execute_result"
    }
   ],
   "source": [
    "sorted_features = f_names[f_imp.argsort()]\n",
    "sorted_features"
   ]
  },
  {
   "cell_type": "code",
   "execution_count": 71,
   "id": "bf1e667e",
   "metadata": {},
   "outputs": [
    {
     "data": {
      "text/plain": [
       "array([0.        , 0.        , 0.        , 0.        , 0.        ,\n",
       "       0.        , 0.        , 0.        , 0.        , 0.        ,\n",
       "       0.        , 0.        , 0.        , 0.        , 0.        ,\n",
       "       0.        , 0.        , 0.        , 0.        , 0.        ,\n",
       "       0.        , 0.        , 0.        , 0.        , 0.        ,\n",
       "       0.        , 0.        , 0.        , 0.        , 0.        ,\n",
       "       0.        , 0.        , 0.        , 0.        , 0.        ,\n",
       "       0.        , 0.        , 0.        , 0.        , 0.        ,\n",
       "       0.        , 0.        , 0.        , 0.        , 0.        ,\n",
       "       0.        , 0.        , 0.        , 0.        , 0.        ,\n",
       "       0.        , 0.        , 0.        , 0.        , 0.        ,\n",
       "       0.        , 0.        , 0.        , 0.        , 0.        ,\n",
       "       0.        , 0.        , 0.        , 0.        , 0.        ,\n",
       "       0.        , 0.        , 0.        , 0.        , 0.        ,\n",
       "       0.        , 0.        , 0.        , 0.        , 0.        ,\n",
       "       0.        , 0.        , 0.        , 0.        , 0.        ,\n",
       "       0.        , 0.        , 0.        , 0.        , 0.        ,\n",
       "       0.        , 0.        , 0.        , 0.        , 0.        ,\n",
       "       0.        , 0.        , 0.        , 0.        , 0.        ,\n",
       "       0.        , 0.        , 0.        , 0.        , 0.        ,\n",
       "       0.        , 0.        , 0.        , 0.        , 0.        ,\n",
       "       0.        , 0.        , 0.        , 0.        , 0.        ,\n",
       "       0.        , 0.        , 0.        , 0.        , 0.        ,\n",
       "       0.        , 0.        , 0.        , 0.        , 0.        ,\n",
       "       0.        , 0.        , 0.        , 0.        , 0.        ,\n",
       "       0.        , 0.        , 0.        , 0.        , 0.        ,\n",
       "       0.        , 0.        , 0.        , 0.        , 0.        ,\n",
       "       0.        , 0.        , 0.        , 0.        , 0.        ,\n",
       "       0.        , 0.        , 0.        , 0.        , 0.        ,\n",
       "       0.        , 0.        , 0.        , 0.        , 0.        ,\n",
       "       0.        , 0.        , 0.        , 0.        , 0.        ,\n",
       "       0.        , 0.        , 0.        , 0.        , 0.        ,\n",
       "       0.        , 0.        , 0.        , 0.        , 0.        ,\n",
       "       0.        , 0.        , 0.        , 0.        , 0.        ,\n",
       "       0.        , 0.        , 0.        , 0.        , 0.        ,\n",
       "       0.        , 0.        , 0.        , 0.        , 0.        ,\n",
       "       0.        , 0.        , 0.        , 0.        , 0.        ,\n",
       "       0.        , 0.        , 0.        , 0.        , 0.        ,\n",
       "       0.        , 0.        , 0.        , 0.        , 0.        ,\n",
       "       0.        , 0.        , 0.        , 0.        , 0.        ,\n",
       "       0.        , 0.        , 0.        , 0.        , 0.        ,\n",
       "       0.        , 0.        , 0.        , 0.        , 0.00069816,\n",
       "       0.00070451, 0.00073757, 0.00088045, 0.00089729, 0.00092944,\n",
       "       0.00093973, 0.0009532 , 0.00109832, 0.00110999, 0.00113564,\n",
       "       0.00124027, 0.00124283, 0.00140652, 0.00155815, 0.00156227,\n",
       "       0.00157592, 0.00170769, 0.00175675, 0.00183761, 0.00189409,\n",
       "       0.00194225, 0.00196752, 0.00199163, 0.00201386, 0.00201709,\n",
       "       0.00201897, 0.00202898, 0.00209679, 0.00210816, 0.00222672,\n",
       "       0.00227783, 0.00236494, 0.00248984, 0.00249619, 0.00251238,\n",
       "       0.00264412, 0.00268665, 0.00272178, 0.00275341, 0.00299497,\n",
       "       0.00316522, 0.00317388, 0.0032691 , 0.00346901, 0.00348008,\n",
       "       0.003529  , 0.00363056, 0.00412475, 0.00416798, 0.00422856,\n",
       "       0.0042966 , 0.00430673, 0.00443892, 0.004716  , 0.00475499,\n",
       "       0.00484205, 0.00495194, 0.00526948, 0.0052828 , 0.00528722,\n",
       "       0.00549279, 0.00565142, 0.00566874, 0.0058104 , 0.00607257,\n",
       "       0.006541  , 0.00725278, 0.00794765, 0.00882948, 0.00903924,\n",
       "       0.00914052, 0.00965688, 0.00989368, 0.01036031, 0.01064227,\n",
       "       0.01122694, 0.01136468, 0.01207044, 0.0123476 , 0.01241157,\n",
       "       0.01257607, 0.01347646, 0.01523249, 0.01994626, 0.02241079,\n",
       "       0.02249379, 0.02304188, 0.03201103, 0.04357539, 0.0455463 ,\n",
       "       0.05330231, 0.09842573, 0.10784317, 0.15609205], dtype=float32)"
      ]
     },
     "execution_count": 71,
     "metadata": {},
     "output_type": "execute_result"
    }
   ],
   "source": [
    "sorted_importances = f_imp[f_imp.argsort()]\n",
    "sorted_importances"
   ]
  },
  {
   "cell_type": "code",
   "execution_count": 75,
   "id": "d1610c27",
   "metadata": {},
   "outputs": [
    {
     "data": {
      "image/png": "[encoded data removed]",
      "text/plain": [
       "<Figure size 2000x500 with 1 Axes>"
      ]
     },
     "metadata": {},
     "output_type": "display_data"
    }
   ],
   "source": [
    "N = 10\n",
    "plt.figure(figsize=(20,5))\n",
    "plt.bar(sorted_features[-N:],sorted_importances[-N:] )\n",
    "plt.xticks(rotation=30);"
   ]
  },
  {
   "cell_type": "markdown",
   "id": "2423558d",
   "metadata": {},
   "source": [
    "# n_grams"
   ]
  },
  {
   "cell_type": "code",
   "execution_count": 83,
   "id": "df9ea082",
   "metadata": {},
   "outputs": [],
   "source": [
    "vect = CountVectorizer(ngram_range=(1,4)).fit(X_train)\n",
    "X_train_bag = vect.transform(X_train)\n",
    "X_test_bag  = vect.transform(X_test)"
   ]
  },
  {
   "cell_type": "code",
   "execution_count": 84,
   "id": "ef8d397e",
   "metadata": {},
   "outputs": [
    {
     "data": {
      "text/plain": [
       "(1467, 46986)"
      ]
     },
     "execution_count": 84,
     "metadata": {},
     "output_type": "execute_result"
    }
   ],
   "source": [
    "X_train_bag.shape"
   ]
  },
  {
   "cell_type": "code",
   "execution_count": 85,
   "id": "ee991c03",
   "metadata": {},
   "outputs": [
    {
     "data": {
      "text/html": [
       "<style>#sk-container-id-2 {color: black;background-color: white;}#sk-container-id-2 pre{padding: 0;}#sk-container-id-2 div.sk-toggleable {background-color: white;}#sk-container-id-2 label.sk-toggleable__label {cursor: pointer;display: block;width: 100%;margin-bottom: 0;padding: 0.3em;box-sizing: border-box;text-align: center;}#sk-container-id-2 label.sk-toggleable__label-arrow:before {content: \"▸\";float: left;margin-right: 0.25em;color: #696969;}#sk-container-id-2 label.sk-toggleable__label-arrow:hover:before {color: black;}#sk-container-id-2 div.sk-estimator:hover label.sk-toggleable__label-arrow:before {color: black;}#sk-container-id-2 div.sk-toggleable__content {max-height: 0;max-width: 0;overflow: hidden;text-align: left;background-color: #f0f8ff;}#sk-container-id-2 div.sk-toggleable__content pre {margin: 0.2em;color: black;border-radius: 0.25em;background-color: #f0f8ff;}#sk-container-id-2 input.sk-toggleable__control:checked~div.sk-toggleable__content {max-height: 200px;max-width: 100%;overflow: auto;}#sk-container-id-2 input.sk-toggleable__control:checked~label.sk-toggleable__label-arrow:before {content: \"▾\";}#sk-container-id-2 div.sk-estimator input.sk-toggleable__control:checked~label.sk-toggleable__label {background-color: #d4ebff;}#sk-container-id-2 div.sk-label input.sk-toggleable__control:checked~label.sk-toggleable__label {background-color: #d4ebff;}#sk-container-id-2 input.sk-hidden--visually {border: 0;clip: rect(1px 1px 1px 1px);clip: rect(1px, 1px, 1px, 1px);height: 1px;margin: -1px;overflow: hidden;padding: 0;position: absolute;width: 1px;}#sk-container-id-2 div.sk-estimator {font-family: monospace;background-color: #f0f8ff;border: 1px dotted black;border-radius: 0.25em;box-sizing: border-box;margin-bottom: 0.5em;}#sk-container-id-2 div.sk-estimator:hover {background-color: #d4ebff;}#sk-container-id-2 div.sk-parallel-item::after {content: \"\";width: 100%;border-bottom: 1px solid gray;flex-grow: 1;}#sk-container-id-2 div.sk-label:hover label.sk-toggleable__label {background-color: #d4ebff;}#sk-container-id-2 div.sk-serial::before {content: \"\";position: absolute;border-left: 1px solid gray;box-sizing: border-box;top: 0;bottom: 0;left: 50%;z-index: 0;}#sk-container-id-2 div.sk-serial {display: flex;flex-direction: column;align-items: center;background-color: white;padding-right: 0.2em;padding-left: 0.2em;position: relative;}#sk-container-id-2 div.sk-item {position: relative;z-index: 1;}#sk-container-id-2 div.sk-parallel {display: flex;align-items: stretch;justify-content: center;background-color: white;position: relative;}#sk-container-id-2 div.sk-item::before, #sk-container-id-2 div.sk-parallel-item::before {content: \"\";position: absolute;border-left: 1px solid gray;box-sizing: border-box;top: 0;bottom: 0;left: 50%;z-index: -1;}#sk-container-id-2 div.sk-parallel-item {display: flex;flex-direction: column;z-index: 1;position: relative;background-color: white;}#sk-container-id-2 div.sk-parallel-item:first-child::after {align-self: flex-end;width: 50%;}#sk-container-id-2 div.sk-parallel-item:last-child::after {align-self: flex-start;width: 50%;}#sk-container-id-2 div.sk-parallel-item:only-child::after {width: 0;}#sk-container-id-2 div.sk-dashed-wrapped {border: 1px dashed gray;margin: 0 0.4em 0.5em 0.4em;box-sizing: border-box;padding-bottom: 0.4em;background-color: white;}#sk-container-id-2 div.sk-label label {font-family: monospace;font-weight: bold;display: inline-block;line-height: 1.2em;}#sk-container-id-2 div.sk-label-container {text-align: center;}#sk-container-id-2 div.sk-container {/* jupyter's `normalize.less` sets `[hidden] { display: none; }` but bootstrap.min.css set `[hidden] { display: none !important; }` so we also need the `!important` here to be able to override the default hidden behavior on the sphinx rendered scikit-learn.org. See: https://github.com/scikit-learn/scikit-learn/issues/21755 */display: inline-block !important;position: relative;}#sk-container-id-2 div.sk-text-repr-fallback {display: none;}</style><div id=\"sk-container-id-2\" class=\"sk-top-container\"><div class=\"sk-text-repr-fallback\"><pre>XGBClassifier(base_score=None, booster=None, callbacks=None,\n",
       "              colsample_bylevel=None, colsample_bynode=None,\n",
       "              colsample_bytree=None, early_stopping_rounds=None,\n",
       "              enable_categorical=False, eval_metric=None, feature_types=None,\n",
       "              gamma=None, gpu_id=None, grow_policy=None, importance_type=None,\n",
       "              interaction_constraints=None, learning_rate=None, max_bin=None,\n",
       "              max_cat_threshold=None, max_cat_to_onehot=None,\n",
       "              max_delta_step=None, max_depth=None, max_leaves=None,\n",
       "              min_child_weight=None, missing=nan, monotone_constraints=None,\n",
       "              n_estimators=100, n_jobs=None, num_parallel_tree=None,\n",
       "              predictor=None, random_state=None, ...)</pre><b>In a Jupyter environment, please rerun this cell to show the HTML representation or trust the notebook. <br />On GitHub, the HTML representation is unable to render, please try loading this page with nbviewer.org.</b></div><div class=\"sk-container\" hidden><div class=\"sk-item\"><div class=\"sk-estimator sk-toggleable\"><input class=\"sk-toggleable__control sk-hidden--visually\" id=\"sk-estimator-id-2\" type=\"checkbox\" checked><label for=\"sk-estimator-id-2\" class=\"sk-toggleable__label sk-toggleable__label-arrow\">XGBClassifier</label><div class=\"sk-toggleable__content\"><pre>XGBClassifier(base_score=None, booster=None, callbacks=None,\n",
       "              colsample_bylevel=None, colsample_bynode=None,\n",
       "              colsample_bytree=None, early_stopping_rounds=None,\n",
       "              enable_categorical=False, eval_metric=None, feature_types=None,\n",
       "              gamma=None, gpu_id=None, grow_policy=None, importance_type=None,\n",
       "              interaction_constraints=None, learning_rate=None, max_bin=None,\n",
       "              max_cat_threshold=None, max_cat_to_onehot=None,\n",
       "              max_delta_step=None, max_depth=None, max_leaves=None,\n",
       "              min_child_weight=None, missing=nan, monotone_constraints=None,\n",
       "              n_estimators=100, n_jobs=None, num_parallel_tree=None,\n",
       "              predictor=None, random_state=None, ...)</pre></div></div></div></div></div>"
      ],
      "text/plain": [
       "XGBClassifier(base_score=None, booster=None, callbacks=None,\n",
       "              colsample_bylevel=None, colsample_bynode=None,\n",
       "              colsample_bytree=None, early_stopping_rounds=None,\n",
       "              enable_categorical=False, eval_metric=None, feature_types=None,\n",
       "              gamma=None, gpu_id=None, grow_policy=None, importance_type=None,\n",
       "              interaction_constraints=None, learning_rate=None, max_bin=None,\n",
       "              max_cat_threshold=None, max_cat_to_onehot=None,\n",
       "              max_delta_step=None, max_depth=None, max_leaves=None,\n",
       "              min_child_weight=None, missing=nan, monotone_constraints=None,\n",
       "              n_estimators=100, n_jobs=None, num_parallel_tree=None,\n",
       "              predictor=None, random_state=None, ...)"
      ]
     },
     "execution_count": 85,
     "metadata": {},
     "output_type": "execute_result"
    }
   ],
   "source": [
    "xgb = XGBClassifier()\n",
    "xgb.fit(X_train_bag,y_train)"
   ]
  },
  {
   "cell_type": "code",
   "execution_count": 86,
   "id": "b49f643c",
   "metadata": {},
   "outputs": [
    {
     "data": {
      "text/plain": [
       "0.9407118478790834"
      ]
     },
     "execution_count": 86,
     "metadata": {},
     "output_type": "execute_result"
    }
   ],
   "source": [
    "scores = cross_val_score(xgb,X_train_bag,y_train)\n",
    "scores.mean()"
   ]
  },
  {
   "cell_type": "markdown",
   "id": "3205a36a",
   "metadata": {},
   "source": [
    "# Lemmatization"
   ]
  },
  {
   "cell_type": "code",
   "execution_count": 88,
   "id": "57215e16",
   "metadata": {},
   "outputs": [],
   "source": [
    "nlp = spacy.load('en_core_web_sm')"
   ]
  },
  {
   "cell_type": "code",
   "execution_count": 89,
   "id": "117fa71a",
   "metadata": {},
   "outputs": [],
   "source": [
    "def lemma_tokenizer(text):\n",
    "    return [token.lemma_ for token in nlp(text)]"
   ]
  },
  {
   "cell_type": "code",
   "execution_count": 90,
   "id": "daf7bc4d",
   "metadata": {},
   "outputs": [
    {
     "name": "stderr",
     "output_type": "stream",
     "text": [
      "C:\\Users\\LENOVO\\AppData\\Local\\Programs\\Python\\Python311\\Lib\\site-packages\\sklearn\\feature_extraction\\text.py:528: UserWarning: The parameter 'token_pattern' will not be used since 'tokenizer' is not None'\n",
      "  warnings.warn(\n"
     ]
    }
   ],
   "source": [
    "vect = CountVectorizer(tokenizer=lemma_tokenizer).fit(X_train)\n",
    "X_train_lemma = vect.transform(X_train)\n",
    "X_test_lemma  = vect.transform(X_test)"
   ]
  },
  {
   "cell_type": "code",
   "execution_count": 92,
   "id": "5f41143f",
   "metadata": {},
   "outputs": [
    {
     "data": {
      "text/plain": [
       "(1467, 3843)"
      ]
     },
     "execution_count": 92,
     "metadata": {},
     "output_type": "execute_result"
    }
   ],
   "source": [
    "X_train_lemma.shape"
   ]
  },
  {
   "cell_type": "code",
   "execution_count": 93,
   "id": "9404be58",
   "metadata": {
    "scrolled": true
   },
   "outputs": [
    {
     "data": {
      "text/html": [
       "<style>#sk-container-id-3 {color: black;background-color: white;}#sk-container-id-3 pre{padding: 0;}#sk-container-id-3 div.sk-toggleable {background-color: white;}#sk-container-id-3 label.sk-toggleable__label {cursor: pointer;display: block;width: 100%;margin-bottom: 0;padding: 0.3em;box-sizing: border-box;text-align: center;}#sk-container-id-3 label.sk-toggleable__label-arrow:before {content: \"▸\";float: left;margin-right: 0.25em;color: #696969;}#sk-container-id-3 label.sk-toggleable__label-arrow:hover:before {color: black;}#sk-container-id-3 div.sk-estimator:hover label.sk-toggleable__label-arrow:before {color: black;}#sk-container-id-3 div.sk-toggleable__content {max-height: 0;max-width: 0;overflow: hidden;text-align: left;background-color: #f0f8ff;}#sk-container-id-3 div.sk-toggleable__content pre {margin: 0.2em;color: black;border-radius: 0.25em;background-color: #f0f8ff;}#sk-container-id-3 input.sk-toggleable__control:checked~div.sk-toggleable__content {max-height: 200px;max-width: 100%;overflow: auto;}#sk-container-id-3 input.sk-toggleable__control:checked~label.sk-toggleable__label-arrow:before {content: \"▾\";}#sk-container-id-3 div.sk-estimator input.sk-toggleable__control:checked~label.sk-toggleable__label {background-color: #d4ebff;}#sk-container-id-3 div.sk-label input.sk-toggleable__control:checked~label.sk-toggleable__label {background-color: #d4ebff;}#sk-container-id-3 input.sk-hidden--visually {border: 0;clip: rect(1px 1px 1px 1px);clip: rect(1px, 1px, 1px, 1px);height: 1px;margin: -1px;overflow: hidden;padding: 0;position: absolute;width: 1px;}#sk-container-id-3 div.sk-estimator {font-family: monospace;background-color: #f0f8ff;border: 1px dotted black;border-radius: 0.25em;box-sizing: border-box;margin-bottom: 0.5em;}#sk-container-id-3 div.sk-estimator:hover {background-color: #d4ebff;}#sk-container-id-3 div.sk-parallel-item::after {content: \"\";width: 100%;border-bottom: 1px solid gray;flex-grow: 1;}#sk-container-id-3 div.sk-label:hover label.sk-toggleable__label {background-color: #d4ebff;}#sk-container-id-3 div.sk-serial::before {content: \"\";position: absolute;border-left: 1px solid gray;box-sizing: border-box;top: 0;bottom: 0;left: 50%;z-index: 0;}#sk-container-id-3 div.sk-serial {display: flex;flex-direction: column;align-items: center;background-color: white;padding-right: 0.2em;padding-left: 0.2em;position: relative;}#sk-container-id-3 div.sk-item {position: relative;z-index: 1;}#sk-container-id-3 div.sk-parallel {display: flex;align-items: stretch;justify-content: center;background-color: white;position: relative;}#sk-container-id-3 div.sk-item::before, #sk-container-id-3 div.sk-parallel-item::before {content: \"\";position: absolute;border-left: 1px solid gray;box-sizing: border-box;top: 0;bottom: 0;left: 50%;z-index: -1;}#sk-container-id-3 div.sk-parallel-item {display: flex;flex-direction: column;z-index: 1;position: relative;background-color: white;}#sk-container-id-3 div.sk-parallel-item:first-child::after {align-self: flex-end;width: 50%;}#sk-container-id-3 div.sk-parallel-item:last-child::after {align-self: flex-start;width: 50%;}#sk-container-id-3 div.sk-parallel-item:only-child::after {width: 0;}#sk-container-id-3 div.sk-dashed-wrapped {border: 1px dashed gray;margin: 0 0.4em 0.5em 0.4em;box-sizing: border-box;padding-bottom: 0.4em;background-color: white;}#sk-container-id-3 div.sk-label label {font-family: monospace;font-weight: bold;display: inline-block;line-height: 1.2em;}#sk-container-id-3 div.sk-label-container {text-align: center;}#sk-container-id-3 div.sk-container {/* jupyter's `normalize.less` sets `[hidden] { display: none; }` but bootstrap.min.css set `[hidden] { display: none !important; }` so we also need the `!important` here to be able to override the default hidden behavior on the sphinx rendered scikit-learn.org. See: https://github.com/scikit-learn/scikit-learn/issues/21755 */display: inline-block !important;position: relative;}#sk-container-id-3 div.sk-text-repr-fallback {display: none;}</style><div id=\"sk-container-id-3\" class=\"sk-top-container\"><div class=\"sk-text-repr-fallback\"><pre>XGBClassifier(base_score=None, booster=None, callbacks=None,\n",
       "              colsample_bylevel=None, colsample_bynode=None,\n",
       "              colsample_bytree=None, early_stopping_rounds=None,\n",
       "              enable_categorical=False, eval_metric=None, feature_types=None,\n",
       "              gamma=None, gpu_id=None, grow_policy=None, importance_type=None,\n",
       "              interaction_constraints=None, learning_rate=None, max_bin=None,\n",
       "              max_cat_threshold=None, max_cat_to_onehot=None,\n",
       "              max_delta_step=None, max_depth=None, max_leaves=None,\n",
       "              min_child_weight=None, missing=nan, monotone_constraints=None,\n",
       "              n_estimators=100, n_jobs=None, num_parallel_tree=None,\n",
       "              predictor=None, random_state=None, ...)</pre><b>In a Jupyter environment, please rerun this cell to show the HTML representation or trust the notebook. <br />On GitHub, the HTML representation is unable to render, please try loading this page with nbviewer.org.</b></div><div class=\"sk-container\" hidden><div class=\"sk-item\"><div class=\"sk-estimator sk-toggleable\"><input class=\"sk-toggleable__control sk-hidden--visually\" id=\"sk-estimator-id-3\" type=\"checkbox\" checked><label for=\"sk-estimator-id-3\" class=\"sk-toggleable__label sk-toggleable__label-arrow\">XGBClassifier</label><div class=\"sk-toggleable__content\"><pre>XGBClassifier(base_score=None, booster=None, callbacks=None,\n",
       "              colsample_bylevel=None, colsample_bynode=None,\n",
       "              colsample_bytree=None, early_stopping_rounds=None,\n",
       "              enable_categorical=False, eval_metric=None, feature_types=None,\n",
       "              gamma=None, gpu_id=None, grow_policy=None, importance_type=None,\n",
       "              interaction_constraints=None, learning_rate=None, max_bin=None,\n",
       "              max_cat_threshold=None, max_cat_to_onehot=None,\n",
       "              max_delta_step=None, max_depth=None, max_leaves=None,\n",
       "              min_child_weight=None, missing=nan, monotone_constraints=None,\n",
       "              n_estimators=100, n_jobs=None, num_parallel_tree=None,\n",
       "              predictor=None, random_state=None, ...)</pre></div></div></div></div></div>"
      ],
      "text/plain": [
       "XGBClassifier(base_score=None, booster=None, callbacks=None,\n",
       "              colsample_bylevel=None, colsample_bynode=None,\n",
       "              colsample_bytree=None, early_stopping_rounds=None,\n",
       "              enable_categorical=False, eval_metric=None, feature_types=None,\n",
       "              gamma=None, gpu_id=None, grow_policy=None, importance_type=None,\n",
       "              interaction_constraints=None, learning_rate=None, max_bin=None,\n",
       "              max_cat_threshold=None, max_cat_to_onehot=None,\n",
       "              max_delta_step=None, max_depth=None, max_leaves=None,\n",
       "              min_child_weight=None, missing=nan, monotone_constraints=None,\n",
       "              n_estimators=100, n_jobs=None, num_parallel_tree=None,\n",
       "              predictor=None, random_state=None, ...)"
      ]
     },
     "execution_count": 93,
     "metadata": {},
     "output_type": "execute_result"
    }
   ],
   "source": [
    "xgb = XGBClassifier()\n",
    "xgb.fit(X_train_lemma,y_train)"
   ]
  },
  {
   "cell_type": "code",
   "execution_count": 94,
   "id": "8e6343e1",
   "metadata": {
    "scrolled": true
   },
   "outputs": [
    {
     "data": {
      "text/plain": [
       "0.8793759141882008"
      ]
     },
     "execution_count": 94,
     "metadata": {},
     "output_type": "execute_result"
    }
   ],
   "source": [
    "scores = cross_val_score(xgb,X_train_lemma,y_train)\n",
    "scores.mean()"
   ]
  },
  {
   "cell_type": "markdown",
   "id": "77de1040",
   "metadata": {},
   "source": [
    "# Stemming"
   ]
  },
  {
   "cell_type": "code",
   "execution_count": 96,
   "id": "416969dd",
   "metadata": {},
   "outputs": [],
   "source": [
    "stemmer = nltk.stem.PorterStemmer()"
   ]
  },
  {
   "cell_type": "code",
   "execution_count": 104,
   "id": "28eababf",
   "metadata": {},
   "outputs": [],
   "source": [
    "def stem_tokenizer(text):\n",
    "    return [stemmer.stem(token.norm_.lower()) for token in nlp(text)]"
   ]
  },
  {
   "cell_type": "code",
   "execution_count": 105,
   "id": "af8ed707",
   "metadata": {},
   "outputs": [
    {
     "name": "stderr",
     "output_type": "stream",
     "text": [
      "C:\\Users\\LENOVO\\AppData\\Local\\Programs\\Python\\Python311\\Lib\\site-packages\\sklearn\\feature_extraction\\text.py:528: UserWarning: The parameter 'token_pattern' will not be used since 'tokenizer' is not None'\n",
      "  warnings.warn(\n"
     ]
    }
   ],
   "source": [
    "vect = CountVectorizer(tokenizer=stem_tokenizer).fit(X_train)\n",
    "X_train_stem = vect.transform(X_train)\n",
    "X_test_stem  = vect.transform(X_test)"
   ]
  },
  {
   "cell_type": "code",
   "execution_count": 106,
   "id": "853487cc",
   "metadata": {},
   "outputs": [
    {
     "data": {
      "text/plain": [
       "(1467, 3760)"
      ]
     },
     "execution_count": 106,
     "metadata": {},
     "output_type": "execute_result"
    }
   ],
   "source": [
    "X_train_stem.shape"
   ]
  },
  {
   "cell_type": "code",
   "execution_count": 107,
   "id": "9107af09",
   "metadata": {
    "scrolled": true
   },
   "outputs": [
    {
     "data": {
      "text/html": [
       "<style>#sk-container-id-5 {color: black;background-color: white;}#sk-container-id-5 pre{padding: 0;}#sk-container-id-5 div.sk-toggleable {background-color: white;}#sk-container-id-5 label.sk-toggleable__label {cursor: pointer;display: block;width: 100%;margin-bottom: 0;padding: 0.3em;box-sizing: border-box;text-align: center;}#sk-container-id-5 label.sk-toggleable__label-arrow:before {content: \"▸\";float: left;margin-right: 0.25em;color: #696969;}#sk-container-id-5 label.sk-toggleable__label-arrow:hover:before {color: black;}#sk-container-id-5 div.sk-estimator:hover label.sk-toggleable__label-arrow:before {color: black;}#sk-container-id-5 div.sk-toggleable__content {max-height: 0;max-width: 0;overflow: hidden;text-align: left;background-color: #f0f8ff;}#sk-container-id-5 div.sk-toggleable__content pre {margin: 0.2em;color: black;border-radius: 0.25em;background-color: #f0f8ff;}#sk-container-id-5 input.sk-toggleable__control:checked~div.sk-toggleable__content {max-height: 200px;max-width: 100%;overflow: auto;}#sk-container-id-5 input.sk-toggleable__control:checked~label.sk-toggleable__label-arrow:before {content: \"▾\";}#sk-container-id-5 div.sk-estimator input.sk-toggleable__control:checked~label.sk-toggleable__label {background-color: #d4ebff;}#sk-container-id-5 div.sk-label input.sk-toggleable__control:checked~label.sk-toggleable__label {background-color: #d4ebff;}#sk-container-id-5 input.sk-hidden--visually {border: 0;clip: rect(1px 1px 1px 1px);clip: rect(1px, 1px, 1px, 1px);height: 1px;margin: -1px;overflow: hidden;padding: 0;position: absolute;width: 1px;}#sk-container-id-5 div.sk-estimator {font-family: monospace;background-color: #f0f8ff;border: 1px dotted black;border-radius: 0.25em;box-sizing: border-box;margin-bottom: 0.5em;}#sk-container-id-5 div.sk-estimator:hover {background-color: #d4ebff;}#sk-container-id-5 div.sk-parallel-item::after {content: \"\";width: 100%;border-bottom: 1px solid gray;flex-grow: 1;}#sk-container-id-5 div.sk-label:hover label.sk-toggleable__label {background-color: #d4ebff;}#sk-container-id-5 div.sk-serial::before {content: \"\";position: absolute;border-left: 1px solid gray;box-sizing: border-box;top: 0;bottom: 0;left: 50%;z-index: 0;}#sk-container-id-5 div.sk-serial {display: flex;flex-direction: column;align-items: center;background-color: white;padding-right: 0.2em;padding-left: 0.2em;position: relative;}#sk-container-id-5 div.sk-item {position: relative;z-index: 1;}#sk-container-id-5 div.sk-parallel {display: flex;align-items: stretch;justify-content: center;background-color: white;position: relative;}#sk-container-id-5 div.sk-item::before, #sk-container-id-5 div.sk-parallel-item::before {content: \"\";position: absolute;border-left: 1px solid gray;box-sizing: border-box;top: 0;bottom: 0;left: 50%;z-index: -1;}#sk-container-id-5 div.sk-parallel-item {display: flex;flex-direction: column;z-index: 1;position: relative;background-color: white;}#sk-container-id-5 div.sk-parallel-item:first-child::after {align-self: flex-end;width: 50%;}#sk-container-id-5 div.sk-parallel-item:last-child::after {align-self: flex-start;width: 50%;}#sk-container-id-5 div.sk-parallel-item:only-child::after {width: 0;}#sk-container-id-5 div.sk-dashed-wrapped {border: 1px dashed gray;margin: 0 0.4em 0.5em 0.4em;box-sizing: border-box;padding-bottom: 0.4em;background-color: white;}#sk-container-id-5 div.sk-label label {font-family: monospace;font-weight: bold;display: inline-block;line-height: 1.2em;}#sk-container-id-5 div.sk-label-container {text-align: center;}#sk-container-id-5 div.sk-container {/* jupyter's `normalize.less` sets `[hidden] { display: none; }` but bootstrap.min.css set `[hidden] { display: none !important; }` so we also need the `!important` here to be able to override the default hidden behavior on the sphinx rendered scikit-learn.org. See: https://github.com/scikit-learn/scikit-learn/issues/21755 */display: inline-block !important;position: relative;}#sk-container-id-5 div.sk-text-repr-fallback {display: none;}</style><div id=\"sk-container-id-5\" class=\"sk-top-container\"><div class=\"sk-text-repr-fallback\"><pre>XGBClassifier(base_score=None, booster=None, callbacks=None,\n",
       "              colsample_bylevel=None, colsample_bynode=None,\n",
       "              colsample_bytree=None, early_stopping_rounds=None,\n",
       "              enable_categorical=False, eval_metric=None, feature_types=None,\n",
       "              gamma=None, gpu_id=None, grow_policy=None, importance_type=None,\n",
       "              interaction_constraints=None, learning_rate=None, max_bin=None,\n",
       "              max_cat_threshold=None, max_cat_to_onehot=None,\n",
       "              max_delta_step=None, max_depth=None, max_leaves=None,\n",
       "              min_child_weight=None, missing=nan, monotone_constraints=None,\n",
       "              n_estimators=100, n_jobs=None, num_parallel_tree=None,\n",
       "              predictor=None, random_state=None, ...)</pre><b>In a Jupyter environment, please rerun this cell to show the HTML representation or trust the notebook. <br />On GitHub, the HTML representation is unable to render, please try loading this page with nbviewer.org.</b></div><div class=\"sk-container\" hidden><div class=\"sk-item\"><div class=\"sk-estimator sk-toggleable\"><input class=\"sk-toggleable__control sk-hidden--visually\" id=\"sk-estimator-id-5\" type=\"checkbox\" checked><label for=\"sk-estimator-id-5\" class=\"sk-toggleable__label sk-toggleable__label-arrow\">XGBClassifier</label><div class=\"sk-toggleable__content\"><pre>XGBClassifier(base_score=None, booster=None, callbacks=None,\n",
       "              colsample_bylevel=None, colsample_bynode=None,\n",
       "              colsample_bytree=None, early_stopping_rounds=None,\n",
       "              enable_categorical=False, eval_metric=None, feature_types=None,\n",
       "              gamma=None, gpu_id=None, grow_policy=None, importance_type=None,\n",
       "              interaction_constraints=None, learning_rate=None, max_bin=None,\n",
       "              max_cat_threshold=None, max_cat_to_onehot=None,\n",
       "              max_delta_step=None, max_depth=None, max_leaves=None,\n",
       "              min_child_weight=None, missing=nan, monotone_constraints=None,\n",
       "              n_estimators=100, n_jobs=None, num_parallel_tree=None,\n",
       "              predictor=None, random_state=None, ...)</pre></div></div></div></div></div>"
      ],
      "text/plain": [
       "XGBClassifier(base_score=None, booster=None, callbacks=None,\n",
       "              colsample_bylevel=None, colsample_bynode=None,\n",
       "              colsample_bytree=None, early_stopping_rounds=None,\n",
       "              enable_categorical=False, eval_metric=None, feature_types=None,\n",
       "              gamma=None, gpu_id=None, grow_policy=None, importance_type=None,\n",
       "              interaction_constraints=None, learning_rate=None, max_bin=None,\n",
       "              max_cat_threshold=None, max_cat_to_onehot=None,\n",
       "              max_delta_step=None, max_depth=None, max_leaves=None,\n",
       "              min_child_weight=None, missing=nan, monotone_constraints=None,\n",
       "              n_estimators=100, n_jobs=None, num_parallel_tree=None,\n",
       "              predictor=None, random_state=None, ...)"
      ]
     },
     "execution_count": 107,
     "metadata": {},
     "output_type": "execute_result"
    }
   ],
   "source": [
    "xgb = XGBClassifier()\n",
    "xgb.fit(X_train_stem,y_train)"
   ]
  },
  {
   "cell_type": "code",
   "execution_count": 108,
   "id": "27cb5463",
   "metadata": {
    "scrolled": true
   },
   "outputs": [
    {
     "data": {
      "text/plain": [
       "0.8848111258155139"
      ]
     },
     "execution_count": 108,
     "metadata": {},
     "output_type": "execute_result"
    }
   ],
   "source": [
    "scores = cross_val_score(xgb,X_train_stem,y_train)\n",
    "scores.mean()"
   ]
  },
  {
   "cell_type": "markdown",
   "id": "9328871f",
   "metadata": {},
   "source": [
    "# LDA"
   ]
  },
  {
   "cell_type": "code",
   "execution_count": 110,
   "id": "f860874d",
   "metadata": {},
   "outputs": [],
   "source": [
    "lda = LatentDirichletAllocation(n_components=10,random_state=0)\n"
   ]
  },
  {
   "cell_type": "code",
   "execution_count": 111,
   "id": "e3877ed3",
   "metadata": {},
   "outputs": [],
   "source": [
    "vect = CountVectorizer(min_df=10).fit(X_train)\n",
    "X_train_bag = vect.transform(X_train)\n",
    "X_test_bag  = vect.transform(X_test)"
   ]
  },
  {
   "cell_type": "code",
   "execution_count": 113,
   "id": "eaeee0cc",
   "metadata": {},
   "outputs": [],
   "source": [
    "X_lda = lda.fit_transform(X_train_bag)"
   ]
  },
  {
   "cell_type": "code",
   "execution_count": 114,
   "id": "63b9e608",
   "metadata": {},
   "outputs": [
    {
     "data": {
      "text/plain": [
       "(10, 304)"
      ]
     },
     "execution_count": 114,
     "metadata": {},
     "output_type": "execute_result"
    }
   ],
   "source": [
    "topics = lda.components_\n",
    "topics.shape"
   ]
  },
  {
   "cell_type": "code",
   "execution_count": 117,
   "id": "2cf3f854",
   "metadata": {},
   "outputs": [],
   "source": [
    "f_names = vect.get_feature_names_out()"
   ]
  },
  {
   "cell_type": "code",
   "execution_count": 118,
   "id": "fe2c308e",
   "metadata": {},
   "outputs": [
    {
     "data": {
      "text/plain": [
       "array(['000', '100', '15', '2014', '2015', '39', 'about', 'ago', 'all',\n",
       "       'also', 'am', 'amp', 'an', 'and', 'any', 'anyone', 'appreciate',\n",
       "       'are', 'as', 'at', 'awesome', 'back', 'be', 'beautiful', 'because',\n",
       "       'been', 'before', 'being', 'best', 'better', 'billion', 'boy',\n",
       "       'br', 'but', 'by', 'called', 'can', 'chance', 'channel', 'check',\n",
       "       'click', 'co', 'com', 'come', 'comment', 'comments', 'cool',\n",
       "       'could', 'cover', 'covers', 'crazy', 'dance', 'day', 'did', 'do',\n",
       "       'does', 'doing', 'don', 'dont', 'dream', 'earth', 'eminem',\n",
       "       'enjoy', 'even', 'ever', 'every', 'everyday', 'everyone',\n",
       "       'extraordinary', 'facebook', 'fans', 'feel', 'few', 'first',\n",
       "       'follow', 'for', 'fox', 'free', 'from', 'fuck', 'fucking', 'funny',\n",
       "       'gangnam', 'get', 'gets', 'getting', 'girl', 'give', 'go', 'god',\n",
       "       'good', 'google', 'got', 'great', 'gt', 'guy', 'guys', 'has',\n",
       "       'hate', 'have', 'he', 'hear', 'heard', 'hello', 'help', 'her',\n",
       "       'here', 'hey', 'hi', 'his', 'home', 'hope', 'how', 'href', 'http',\n",
       "       'https', 'id', 'if', 'im', 'in', 'is', 'it', 'its', 'just', 'katy',\n",
       "       'keep', 'know', 'leave', 'lie', 'life', 'like', 'likes', 'link',\n",
       "       'listen', 'little', 'live', 'll', 'lol', 'look', 'lot', 'love',\n",
       "       'lt', 'lyrics', 'made', 'make', 'making', 'man', 'many', 'maybe',\n",
       "       'me', 'mean', 'megan', 'million', 'moment', 'money', 'month',\n",
       "       'more', 'most', 'much', 'music', 'my', 'name', 'need', 'never',\n",
       "       'new', 'nice', 'no', 'not', 'nothing', 'now', 'of', 'off', 'old',\n",
       "       'omg', 'on', 'one', 'online', 'only', 'or', 'our', 'out', 'over',\n",
       "       'page', 'part', 'party', 'people', 'per', 'perry', 'person',\n",
       "       'play', 'playlist', 'please', 'plus', 'probably', 'psy', 'quot',\n",
       "       'rap', 'rapper', 're', 'reach', 'read', 'reading', 'real',\n",
       "       'really', 'ref', 'regret', 'right', 'rihanna', 'roar', 'rock',\n",
       "       'same', 'see', 'sexy', 'shakira', 'share', 'she', 'shit', 'should',\n",
       "       'simple', 'singer', 'so', 'some', 'someone', 'song', 'songs',\n",
       "       'soon', 'sorry', 'spam', 'start', 'started', 'still', 'stop',\n",
       "       'style', 'sub', 'subscribe', 'subscribers', 'such', 'support',\n",
       "       'take', 'than', 'thank', 'thanks', 'that', 'the', 'their', 'them',\n",
       "       'then', 'there', 'these', 'they', 'think', 'this', 'those',\n",
       "       'thumbs', 'tiger', 'time', 'to', 'today', 'too', 'true', 'trying',\n",
       "       'type', 'up', 'us', 've', 'very', 'video', 'videos', 'view',\n",
       "       'views', 'visit', 'waka', 'wanna', 'want', 'was', 'watch',\n",
       "       'watching', 'way', 'we', 'website', 'were', 'what', 'when',\n",
       "       'where', 'while', 'who', 'why', 'will', 'with', 'won', 'work',\n",
       "       'working', 'world', 'would', 'wow', 'www', 'xd', 'year', 'years',\n",
       "       'you', 'young', 'your', 'youtu', 'youtube'], dtype=object)"
      ]
     },
     "execution_count": 118,
     "metadata": {},
     "output_type": "execute_result"
    }
   ],
   "source": [
    "f_names"
   ]
  },
  {
   "cell_type": "code",
   "execution_count": 119,
   "id": "20eea132",
   "metadata": {},
   "outputs": [
    {
     "name": "stdout",
     "output_type": "stream",
     "text": [
      "Topic-0: ['your' 'of' 'for' 'to' 'katy' 'and' 'the' 'you']\n",
      "Topic-1: ['like' 'best' 'in' 'is' 'love' 'the' 'this' 'song']\n",
      "Topic-2: ['gt' 'million' 'like' 'share' 'rihanna' 'up' 'it' 'br']\n",
      "Topic-3: ['thanks' 'please' 'quot' 'channel' 'new' 'my' 'check' 'out']\n",
      "Topic-4: ['playlist' 'amp' 'check' 'out' 'video' 'this' 'youtube' 'on']\n",
      "Topic-5: ['we' 'be' 'views' 'and' 'just' 'of' 'the' 'to']\n",
      "Topic-6: ['so' 'it' 'the' 'my' '39' 'to' 'and' 'you']\n",
      "Topic-7: ['beautiful' 'music' 'this' 'her' 'are' 'that' 'she' 'is']\n",
      "Topic-8: ['it' 'if' 'and' 'me' 'my' 'to' 'you' 'subscribe']\n",
      "Topic-9: ['you' 'amp' 'and' 'https' 'http' 'www' 'the' 'com']\n"
     ]
    }
   ],
   "source": [
    "for i in range(10):\n",
    "    sorted_top = np.argsort(topics[i])\n",
    "    print(f'Topic-{i}: {f_names[sorted_top[-8:]]}')"
   ]
  },
  {
   "cell_type": "code",
   "execution_count": 120,
   "id": "3a5d45dd",
   "metadata": {},
   "outputs": [
    {
     "data": {
      "image/png": "[encoded data removed]",
      "text/plain": [
       "<Figure size 2000x600 with 10 Axes>"
      ]
     },
     "metadata": {},
     "output_type": "display_data"
    }
   ],
   "source": [
    "plt.figure(figsize=(20,6))\n",
    "for i in range(10):\n",
    "    plt.subplot(2,5,i+1)\n",
    "    plt.title(f'Topic -{i}')\n",
    "    sorted_top = np.argsort(topics[i])\n",
    "    plt.bar(f_names[sorted_top[-10:]], topics[i][sorted_top[-10:]] )\n",
    "    plt.xticks(rotation=60)\n",
    "plt.tight_layout();"
   ]
  },
  {
   "cell_type": "code",
   "execution_count": null,
   "id": "419c95ef",
   "metadata": {},
   "outputs": [],
   "source": []
  }
 ],
 "metadata": {
  "kernelspec": {
   "display_name": "Python 3 (ipykernel)",
   "language": "python",
   "name": "python3"
  },
  "language_info": {
   "codemirror_mode": {
    "name": "ipython",
    "version": 3
   },
   "file_extension": ".py",
   "mimetype": "text/x-python",
   "name": "python",
   "nbconvert_exporter": "python",
   "pygments_lexer": "ipython3",
   "version": "3.11.1"
  }
 },
 "nbformat": 4,
 "nbformat_minor": 5
}
